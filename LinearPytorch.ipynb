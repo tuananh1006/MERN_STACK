{
  "nbformat": 4,
  "nbformat_minor": 0,
  "metadata": {
    "colab": {
      "provenance": [],
      "authorship_tag": "ABX9TyPVB2oXcuUUfLXGHgZhgDzv",
      "include_colab_link": true
    },
    "kernelspec": {
      "name": "python3",
      "display_name": "Python 3"
    },
    "language_info": {
      "name": "python"
    }
  },
  "cells": [
    {
      "cell_type": "markdown",
      "metadata": {
        "id": "view-in-github",
        "colab_type": "text"
      },
      "source": [
        "<a href=\"https://colab.research.google.com/github/tuananh1006/Torch_Practice/blob/main/LinearPytorch.ipynb\" target=\"_parent\"><img src=\"https://colab.research.google.com/assets/colab-badge.svg\" alt=\"Open In Colab\"/></a>"
      ]
    },
    {
      "cell_type": "code",
      "execution_count": 2,
      "metadata": {
        "id": "KQTKU5WjOejt"
      },
      "outputs": [],
      "source": [
        "import numpy as np\n",
        "import pandas as pd\n",
        "import torch\n",
        "import torch.nn as nn\n",
        "import seaborn as sns"
      ]
    },
    {
      "cell_type": "code",
      "source": [
        "cars_file = 'https://gist.githubusercontent.com/noamross/e5d3e859aa0c794be10b/raw/b999fb4425b54c63cab088c0ce2c0d6ce961a563/cars.csv'\n",
        "cars = pd.read_csv(cars_file)\n",
        "cars.head()"
      ],
      "metadata": {
        "colab": {
          "base_uri": "https://localhost:8080/",
          "height": 206
        },
        "id": "NkcytZabOmjH",
        "outputId": "a2bda277-eeef-4812-9b43-cea3fad2fbae"
      },
      "execution_count": 3,
      "outputs": [
        {
          "output_type": "execute_result",
          "data": {
            "text/plain": [
              "          Unnamed: 0   mpg  cyl   disp   hp  drat     wt   qsec  vs  am  gear  \\\n",
              "0          Mazda RX4  21.0    6  160.0  110  3.90  2.620  16.46   0   1     4   \n",
              "1      Mazda RX4 Wag  21.0    6  160.0  110  3.90  2.875  17.02   0   1     4   \n",
              "2         Datsun 710  22.8    4  108.0   93  3.85  2.320  18.61   1   1     4   \n",
              "3     Hornet 4 Drive  21.4    6  258.0  110  3.08  3.215  19.44   1   0     3   \n",
              "4  Hornet Sportabout  18.7    8  360.0  175  3.15  3.440  17.02   0   0     3   \n",
              "\n",
              "   carb  \n",
              "0     4  \n",
              "1     4  \n",
              "2     1  \n",
              "3     1  \n",
              "4     2  "
            ],
            "text/html": [
              "\n",
              "  <div id=\"df-a24cf821-81a4-4a84-8f8e-767b8d59395a\" class=\"colab-df-container\">\n",
              "    <div>\n",
              "<style scoped>\n",
              "    .dataframe tbody tr th:only-of-type {\n",
              "        vertical-align: middle;\n",
              "    }\n",
              "\n",
              "    .dataframe tbody tr th {\n",
              "        vertical-align: top;\n",
              "    }\n",
              "\n",
              "    .dataframe thead th {\n",
              "        text-align: right;\n",
              "    }\n",
              "</style>\n",
              "<table border=\"1\" class=\"dataframe\">\n",
              "  <thead>\n",
              "    <tr style=\"text-align: right;\">\n",
              "      <th></th>\n",
              "      <th>Unnamed: 0</th>\n",
              "      <th>mpg</th>\n",
              "      <th>cyl</th>\n",
              "      <th>disp</th>\n",
              "      <th>hp</th>\n",
              "      <th>drat</th>\n",
              "      <th>wt</th>\n",
              "      <th>qsec</th>\n",
              "      <th>vs</th>\n",
              "      <th>am</th>\n",
              "      <th>gear</th>\n",
              "      <th>carb</th>\n",
              "    </tr>\n",
              "  </thead>\n",
              "  <tbody>\n",
              "    <tr>\n",
              "      <th>0</th>\n",
              "      <td>Mazda RX4</td>\n",
              "      <td>21.0</td>\n",
              "      <td>6</td>\n",
              "      <td>160.0</td>\n",
              "      <td>110</td>\n",
              "      <td>3.90</td>\n",
              "      <td>2.620</td>\n",
              "      <td>16.46</td>\n",
              "      <td>0</td>\n",
              "      <td>1</td>\n",
              "      <td>4</td>\n",
              "      <td>4</td>\n",
              "    </tr>\n",
              "    <tr>\n",
              "      <th>1</th>\n",
              "      <td>Mazda RX4 Wag</td>\n",
              "      <td>21.0</td>\n",
              "      <td>6</td>\n",
              "      <td>160.0</td>\n",
              "      <td>110</td>\n",
              "      <td>3.90</td>\n",
              "      <td>2.875</td>\n",
              "      <td>17.02</td>\n",
              "      <td>0</td>\n",
              "      <td>1</td>\n",
              "      <td>4</td>\n",
              "      <td>4</td>\n",
              "    </tr>\n",
              "    <tr>\n",
              "      <th>2</th>\n",
              "      <td>Datsun 710</td>\n",
              "      <td>22.8</td>\n",
              "      <td>4</td>\n",
              "      <td>108.0</td>\n",
              "      <td>93</td>\n",
              "      <td>3.85</td>\n",
              "      <td>2.320</td>\n",
              "      <td>18.61</td>\n",
              "      <td>1</td>\n",
              "      <td>1</td>\n",
              "      <td>4</td>\n",
              "      <td>1</td>\n",
              "    </tr>\n",
              "    <tr>\n",
              "      <th>3</th>\n",
              "      <td>Hornet 4 Drive</td>\n",
              "      <td>21.4</td>\n",
              "      <td>6</td>\n",
              "      <td>258.0</td>\n",
              "      <td>110</td>\n",
              "      <td>3.08</td>\n",
              "      <td>3.215</td>\n",
              "      <td>19.44</td>\n",
              "      <td>1</td>\n",
              "      <td>0</td>\n",
              "      <td>3</td>\n",
              "      <td>1</td>\n",
              "    </tr>\n",
              "    <tr>\n",
              "      <th>4</th>\n",
              "      <td>Hornet Sportabout</td>\n",
              "      <td>18.7</td>\n",
              "      <td>8</td>\n",
              "      <td>360.0</td>\n",
              "      <td>175</td>\n",
              "      <td>3.15</td>\n",
              "      <td>3.440</td>\n",
              "      <td>17.02</td>\n",
              "      <td>0</td>\n",
              "      <td>0</td>\n",
              "      <td>3</td>\n",
              "      <td>2</td>\n",
              "    </tr>\n",
              "  </tbody>\n",
              "</table>\n",
              "</div>\n",
              "    <div class=\"colab-df-buttons\">\n",
              "\n",
              "  <div class=\"colab-df-container\">\n",
              "    <button class=\"colab-df-convert\" onclick=\"convertToInteractive('df-a24cf821-81a4-4a84-8f8e-767b8d59395a')\"\n",
              "            title=\"Convert this dataframe to an interactive table.\"\n",
              "            style=\"display:none;\">\n",
              "\n",
              "  <svg xmlns=\"http://www.w3.org/2000/svg\" height=\"24px\" viewBox=\"0 -960 960 960\">\n",
              "    <path d=\"M120-120v-720h720v720H120Zm60-500h600v-160H180v160Zm220 220h160v-160H400v160Zm0 220h160v-160H400v160ZM180-400h160v-160H180v160Zm440 0h160v-160H620v160ZM180-180h160v-160H180v160Zm440 0h160v-160H620v160Z\"/>\n",
              "  </svg>\n",
              "    </button>\n",
              "\n",
              "  <style>\n",
              "    .colab-df-container {\n",
              "      display:flex;\n",
              "      gap: 12px;\n",
              "    }\n",
              "\n",
              "    .colab-df-convert {\n",
              "      background-color: #E8F0FE;\n",
              "      border: none;\n",
              "      border-radius: 50%;\n",
              "      cursor: pointer;\n",
              "      display: none;\n",
              "      fill: #1967D2;\n",
              "      height: 32px;\n",
              "      padding: 0 0 0 0;\n",
              "      width: 32px;\n",
              "    }\n",
              "\n",
              "    .colab-df-convert:hover {\n",
              "      background-color: #E2EBFA;\n",
              "      box-shadow: 0px 1px 2px rgba(60, 64, 67, 0.3), 0px 1px 3px 1px rgba(60, 64, 67, 0.15);\n",
              "      fill: #174EA6;\n",
              "    }\n",
              "\n",
              "    .colab-df-buttons div {\n",
              "      margin-bottom: 4px;\n",
              "    }\n",
              "\n",
              "    [theme=dark] .colab-df-convert {\n",
              "      background-color: #3B4455;\n",
              "      fill: #D2E3FC;\n",
              "    }\n",
              "\n",
              "    [theme=dark] .colab-df-convert:hover {\n",
              "      background-color: #434B5C;\n",
              "      box-shadow: 0px 1px 3px 1px rgba(0, 0, 0, 0.15);\n",
              "      filter: drop-shadow(0px 1px 2px rgba(0, 0, 0, 0.3));\n",
              "      fill: #FFFFFF;\n",
              "    }\n",
              "  </style>\n",
              "\n",
              "    <script>\n",
              "      const buttonEl =\n",
              "        document.querySelector('#df-a24cf821-81a4-4a84-8f8e-767b8d59395a button.colab-df-convert');\n",
              "      buttonEl.style.display =\n",
              "        google.colab.kernel.accessAllowed ? 'block' : 'none';\n",
              "\n",
              "      async function convertToInteractive(key) {\n",
              "        const element = document.querySelector('#df-a24cf821-81a4-4a84-8f8e-767b8d59395a');\n",
              "        const dataTable =\n",
              "          await google.colab.kernel.invokeFunction('convertToInteractive',\n",
              "                                                    [key], {});\n",
              "        if (!dataTable) return;\n",
              "\n",
              "        const docLinkHtml = 'Like what you see? Visit the ' +\n",
              "          '<a target=\"_blank\" href=https://colab.research.google.com/notebooks/data_table.ipynb>data table notebook</a>'\n",
              "          + ' to learn more about interactive tables.';\n",
              "        element.innerHTML = '';\n",
              "        dataTable['output_type'] = 'display_data';\n",
              "        await google.colab.output.renderOutput(dataTable, element);\n",
              "        const docLink = document.createElement('div');\n",
              "        docLink.innerHTML = docLinkHtml;\n",
              "        element.appendChild(docLink);\n",
              "      }\n",
              "    </script>\n",
              "  </div>\n",
              "\n",
              "\n",
              "<div id=\"df-6233df69-08a1-4663-af93-6749f4786f0c\">\n",
              "  <button class=\"colab-df-quickchart\" onclick=\"quickchart('df-6233df69-08a1-4663-af93-6749f4786f0c')\"\n",
              "            title=\"Suggest charts\"\n",
              "            style=\"display:none;\">\n",
              "\n",
              "<svg xmlns=\"http://www.w3.org/2000/svg\" height=\"24px\"viewBox=\"0 0 24 24\"\n",
              "     width=\"24px\">\n",
              "    <g>\n",
              "        <path d=\"M19 3H5c-1.1 0-2 .9-2 2v14c0 1.1.9 2 2 2h14c1.1 0 2-.9 2-2V5c0-1.1-.9-2-2-2zM9 17H7v-7h2v7zm4 0h-2V7h2v10zm4 0h-2v-4h2v4z\"/>\n",
              "    </g>\n",
              "</svg>\n",
              "  </button>\n",
              "\n",
              "<style>\n",
              "  .colab-df-quickchart {\n",
              "      --bg-color: #E8F0FE;\n",
              "      --fill-color: #1967D2;\n",
              "      --hover-bg-color: #E2EBFA;\n",
              "      --hover-fill-color: #174EA6;\n",
              "      --disabled-fill-color: #AAA;\n",
              "      --disabled-bg-color: #DDD;\n",
              "  }\n",
              "\n",
              "  [theme=dark] .colab-df-quickchart {\n",
              "      --bg-color: #3B4455;\n",
              "      --fill-color: #D2E3FC;\n",
              "      --hover-bg-color: #434B5C;\n",
              "      --hover-fill-color: #FFFFFF;\n",
              "      --disabled-bg-color: #3B4455;\n",
              "      --disabled-fill-color: #666;\n",
              "  }\n",
              "\n",
              "  .colab-df-quickchart {\n",
              "    background-color: var(--bg-color);\n",
              "    border: none;\n",
              "    border-radius: 50%;\n",
              "    cursor: pointer;\n",
              "    display: none;\n",
              "    fill: var(--fill-color);\n",
              "    height: 32px;\n",
              "    padding: 0;\n",
              "    width: 32px;\n",
              "  }\n",
              "\n",
              "  .colab-df-quickchart:hover {\n",
              "    background-color: var(--hover-bg-color);\n",
              "    box-shadow: 0 1px 2px rgba(60, 64, 67, 0.3), 0 1px 3px 1px rgba(60, 64, 67, 0.15);\n",
              "    fill: var(--button-hover-fill-color);\n",
              "  }\n",
              "\n",
              "  .colab-df-quickchart-complete:disabled,\n",
              "  .colab-df-quickchart-complete:disabled:hover {\n",
              "    background-color: var(--disabled-bg-color);\n",
              "    fill: var(--disabled-fill-color);\n",
              "    box-shadow: none;\n",
              "  }\n",
              "\n",
              "  .colab-df-spinner {\n",
              "    border: 2px solid var(--fill-color);\n",
              "    border-color: transparent;\n",
              "    border-bottom-color: var(--fill-color);\n",
              "    animation:\n",
              "      spin 1s steps(1) infinite;\n",
              "  }\n",
              "\n",
              "  @keyframes spin {\n",
              "    0% {\n",
              "      border-color: transparent;\n",
              "      border-bottom-color: var(--fill-color);\n",
              "      border-left-color: var(--fill-color);\n",
              "    }\n",
              "    20% {\n",
              "      border-color: transparent;\n",
              "      border-left-color: var(--fill-color);\n",
              "      border-top-color: var(--fill-color);\n",
              "    }\n",
              "    30% {\n",
              "      border-color: transparent;\n",
              "      border-left-color: var(--fill-color);\n",
              "      border-top-color: var(--fill-color);\n",
              "      border-right-color: var(--fill-color);\n",
              "    }\n",
              "    40% {\n",
              "      border-color: transparent;\n",
              "      border-right-color: var(--fill-color);\n",
              "      border-top-color: var(--fill-color);\n",
              "    }\n",
              "    60% {\n",
              "      border-color: transparent;\n",
              "      border-right-color: var(--fill-color);\n",
              "    }\n",
              "    80% {\n",
              "      border-color: transparent;\n",
              "      border-right-color: var(--fill-color);\n",
              "      border-bottom-color: var(--fill-color);\n",
              "    }\n",
              "    90% {\n",
              "      border-color: transparent;\n",
              "      border-bottom-color: var(--fill-color);\n",
              "    }\n",
              "  }\n",
              "</style>\n",
              "\n",
              "  <script>\n",
              "    async function quickchart(key) {\n",
              "      const quickchartButtonEl =\n",
              "        document.querySelector('#' + key + ' button');\n",
              "      quickchartButtonEl.disabled = true;  // To prevent multiple clicks.\n",
              "      quickchartButtonEl.classList.add('colab-df-spinner');\n",
              "      try {\n",
              "        const charts = await google.colab.kernel.invokeFunction(\n",
              "            'suggestCharts', [key], {});\n",
              "      } catch (error) {\n",
              "        console.error('Error during call to suggestCharts:', error);\n",
              "      }\n",
              "      quickchartButtonEl.classList.remove('colab-df-spinner');\n",
              "      quickchartButtonEl.classList.add('colab-df-quickchart-complete');\n",
              "    }\n",
              "    (() => {\n",
              "      let quickchartButtonEl =\n",
              "        document.querySelector('#df-6233df69-08a1-4663-af93-6749f4786f0c button');\n",
              "      quickchartButtonEl.style.display =\n",
              "        google.colab.kernel.accessAllowed ? 'block' : 'none';\n",
              "    })();\n",
              "  </script>\n",
              "</div>\n",
              "\n",
              "    </div>\n",
              "  </div>\n"
            ],
            "application/vnd.google.colaboratory.intrinsic+json": {
              "type": "dataframe",
              "variable_name": "cars",
              "summary": "{\n  \"name\": \"cars\",\n  \"rows\": 32,\n  \"fields\": [\n    {\n      \"column\": \"Unnamed: 0\",\n      \"properties\": {\n        \"dtype\": \"string\",\n        \"num_unique_values\": 32,\n        \"samples\": [\n          \"Ferrari Dino\",\n          \"Lincoln Continental\",\n          \"Pontiac Firebird\"\n        ],\n        \"semantic_type\": \"\",\n        \"description\": \"\"\n      }\n    },\n    {\n      \"column\": \"mpg\",\n      \"properties\": {\n        \"dtype\": \"number\",\n        \"std\": 6.026948052089104,\n        \"min\": 10.4,\n        \"max\": 33.9,\n        \"num_unique_values\": 25,\n        \"samples\": [\n          17.8,\n          33.9,\n          21.0\n        ],\n        \"semantic_type\": \"\",\n        \"description\": \"\"\n      }\n    },\n    {\n      \"column\": \"cyl\",\n      \"properties\": {\n        \"dtype\": \"number\",\n        \"std\": 1,\n        \"min\": 4,\n        \"max\": 8,\n        \"num_unique_values\": 3,\n        \"samples\": [\n          6,\n          4,\n          8\n        ],\n        \"semantic_type\": \"\",\n        \"description\": \"\"\n      }\n    },\n    {\n      \"column\": \"disp\",\n      \"properties\": {\n        \"dtype\": \"number\",\n        \"std\": 123.93869383138194,\n        \"min\": 71.1,\n        \"max\": 472.0,\n        \"num_unique_values\": 27,\n        \"samples\": [\n          275.8,\n          75.7,\n          472.0\n        ],\n        \"semantic_type\": \"\",\n        \"description\": \"\"\n      }\n    },\n    {\n      \"column\": \"hp\",\n      \"properties\": {\n        \"dtype\": \"number\",\n        \"std\": 68,\n        \"min\": 52,\n        \"max\": 335,\n        \"num_unique_values\": 22,\n        \"samples\": [\n          110,\n          52,\n          180\n        ],\n        \"semantic_type\": \"\",\n        \"description\": \"\"\n      }\n    },\n    {\n      \"column\": \"drat\",\n      \"properties\": {\n        \"dtype\": \"number\",\n        \"std\": 0.5346787360709715,\n        \"min\": 2.76,\n        \"max\": 4.93,\n        \"num_unique_values\": 22,\n        \"samples\": [\n          3.9,\n          4.93,\n          3.07\n        ],\n        \"semantic_type\": \"\",\n        \"description\": \"\"\n      }\n    },\n    {\n      \"column\": \"wt\",\n      \"properties\": {\n        \"dtype\": \"number\",\n        \"std\": 0.9784574429896966,\n        \"min\": 1.513,\n        \"max\": 5.424,\n        \"num_unique_values\": 29,\n        \"samples\": [\n          2.77,\n          1.615,\n          5.25\n        ],\n        \"semantic_type\": \"\",\n        \"description\": \"\"\n      }\n    },\n    {\n      \"column\": \"qsec\",\n      \"properties\": {\n        \"dtype\": \"number\",\n        \"std\": 1.7869432360968431,\n        \"min\": 14.5,\n        \"max\": 22.9,\n        \"num_unique_values\": 30,\n        \"samples\": [\n          15.5,\n          17.42,\n          17.05\n        ],\n        \"semantic_type\": \"\",\n        \"description\": \"\"\n      }\n    },\n    {\n      \"column\": \"vs\",\n      \"properties\": {\n        \"dtype\": \"number\",\n        \"std\": 0,\n        \"min\": 0,\n        \"max\": 1,\n        \"num_unique_values\": 2,\n        \"samples\": [\n          1,\n          0\n        ],\n        \"semantic_type\": \"\",\n        \"description\": \"\"\n      }\n    },\n    {\n      \"column\": \"am\",\n      \"properties\": {\n        \"dtype\": \"number\",\n        \"std\": 0,\n        \"min\": 0,\n        \"max\": 1,\n        \"num_unique_values\": 2,\n        \"samples\": [\n          0,\n          1\n        ],\n        \"semantic_type\": \"\",\n        \"description\": \"\"\n      }\n    },\n    {\n      \"column\": \"gear\",\n      \"properties\": {\n        \"dtype\": \"number\",\n        \"std\": 0,\n        \"min\": 3,\n        \"max\": 5,\n        \"num_unique_values\": 3,\n        \"samples\": [\n          4,\n          3\n        ],\n        \"semantic_type\": \"\",\n        \"description\": \"\"\n      }\n    },\n    {\n      \"column\": \"carb\",\n      \"properties\": {\n        \"dtype\": \"number\",\n        \"std\": 1,\n        \"min\": 1,\n        \"max\": 8,\n        \"num_unique_values\": 6,\n        \"samples\": [\n          4,\n          1\n        ],\n        \"semantic_type\": \"\",\n        \"description\": \"\"\n      }\n    }\n  ]\n}"
            }
          },
          "metadata": {},
          "execution_count": 3
        }
      ]
    },
    {
      "cell_type": "code",
      "source": [
        "sns.scatterplot(x='wt', y='mpg', data=cars)\n"
      ],
      "metadata": {
        "colab": {
          "base_uri": "https://localhost:8080/",
          "height": 471
        },
        "id": "4Zq28lZ3OyBs",
        "outputId": "c3955e14-48a9-4ade-8492-a57b46c50ce2"
      },
      "execution_count": 9,
      "outputs": [
        {
          "output_type": "execute_result",
          "data": {
            "text/plain": [
              "<Axes: xlabel='wt', ylabel='mpg'>"
            ]
          },
          "metadata": {},
          "execution_count": 9
        },
        {
          "output_type": "display_data",
          "data": {
            "text/plain": [
              "<Figure size 640x480 with 1 Axes>"
            ],
            "image/png": "[encoded data removed]"
          },
          "metadata": {}
        }
      ]
    },
    {
      "cell_type": "code",
      "source": [
        "sns.regplot(x='wt', y='mpg', data=cars)\n"
      ],
      "metadata": {
        "colab": {
          "base_uri": "https://localhost:8080/",
          "height": 468
        },
        "id": "5tJXcOdmOzej",
        "outputId": "e42ec0a9-0c1d-4784-f265-5c72b94b79f1"
      },
      "execution_count": 10,
      "outputs": [
        {
          "output_type": "execute_result",
          "data": {
            "text/plain": [
              "<Axes: xlabel='wt', ylabel='mpg'>"
            ]
          },
          "metadata": {},
          "execution_count": 10
        },
        {
          "output_type": "display_data",
          "data": {
            "text/plain": [
              "<Figure size 640x480 with 1 Axes>"
            ],
            "image/png": "[encoded data removed]"
          },
          "metadata": {}
        }
      ]
    },
    {
      "cell_type": "code",
      "source": [
        "X_np=cars['wt'].to_numpy(dtype=np.float32).reshape(-1,1)\n",
        "y_np=cars['mpg'].to_numpy(dtype=np.float32).reshape(-1,1)"
      ],
      "metadata": {
        "id": "YpItIQDAO6kV"
      },
      "execution_count": 17,
      "outputs": []
    },
    {
      "cell_type": "code",
      "source": [
        "X_np.shape"
      ],
      "metadata": {
        "colab": {
          "base_uri": "https://localhost:8080/"
        },
        "id": "Nxz0AmL2PVCH",
        "outputId": "c70437eb-5497-444b-ca4a-b29927d8b2fa"
      },
      "execution_count": 15,
      "outputs": [
        {
          "output_type": "execute_result",
          "data": {
            "text/plain": [
              "(32,)"
            ]
          },
          "metadata": {},
          "execution_count": 15
        }
      ]
    },
    {
      "cell_type": "code",
      "source": [
        "X_torch=torch.tensor(X_np)\n",
        "y_torch=torch.tensor(y_np)"
      ],
      "metadata": {
        "id": "leTzeUnkPgTv"
      },
      "execution_count": 18,
      "outputs": []
    },
    {
      "cell_type": "code",
      "source": [
        "w=torch.rand(1,requires_grad=True,dtype=torch.float32)\n",
        "b=torch.rand(1,requires_grad=True,dtype=torch.float32)\n",
        "epoch=1000\n",
        "lr=0.01\n",
        "for i in range(epoch):\n",
        "  for j in range(len(X_torch)):\n",
        "    y_pred=X_torch[j]*w+b\n",
        "    loss=torch.pow(y_pred-y_torch[j],2)\n",
        "    loss.backward()\n",
        "    with torch.no_grad():\n",
        "      w-=lr*w.grad\n",
        "      b-=lr*b.grad\n",
        "      w.grad.zero_()\n",
        "      b.grad.zero_()\n",
        "y_pred=X_torch*w+b\n",
        "loss=torch.mean((y_pred-y_torch)**2)\n",
        "print(loss.item())"
      ],
      "metadata": {
        "colab": {
          "base_uri": "https://localhost:8080/"
        },
        "id": "ztBcB5fwQfw_",
        "outputId": "3301e938-6c7a-48de-fb7a-dac28e30b1da"
      },
      "execution_count": 60,
      "outputs": [
        {
          "output_type": "stream",
          "name": "stdout",
          "text": [
            "11.201258659362793\n"
          ]
        }
      ]
    },
    {
      "cell_type": "code",
      "source": [
        "w=torch.rand(1,requires_grad=True,dtype=torch.float32)\n",
        "b=torch.rand(1,requires_grad=True,dtype=torch.float32)\n",
        "epoch=1000\n",
        "lr=0.001\n",
        "for i in range(epoch):\n",
        "  for j in range(len(X_torch)):\n",
        "    y_pred=X_torch[j]*w+b\n",
        "    loss=torch.pow(y_pred-y_torch[j],3)\n",
        "    loss.backward()\n",
        "    with torch.no_grad():\n",
        "      torch.nn.utils.clip_grad_norm_([w, b], 1.0)  # Clip gradients to norm 1.0\n",
        "      w-=lr*w.grad\n",
        "      b-=lr*b.grad\n",
        "      w.grad.zero_()\n",
        "      b.grad.zero_()\n",
        "y_pred=X_torch*w+b\n",
        "loss=torch.mean((y_pred-y_torch)**2)\n",
        "print(loss.item())"
      ],
      "metadata": {
        "colab": {
          "base_uri": "https://localhost:8080/"
        },
        "id": "ZxRmYY5IQx3Z",
        "outputId": "864b088e-7eb2-4c4b-85d6-9f445e9c2c37"
      },
      "execution_count": 68,
      "outputs": [
        {
          "output_type": "stream",
          "name": "stdout",
          "text": [
            "16549.765625\n"
          ]
        }
      ]
    },
    {
      "cell_type": "code",
      "source": [
        "w=torch.rand(1,requires_grad=True,dtype=torch.float32)\n",
        "b=torch.rand(1,requires_grad=True,dtype=torch.float32)\n",
        "epoch=1000\n",
        "lr=0.001\n",
        "for i in range(epoch):\n",
        "  for j in range(len(X_torch)):\n",
        "    y_pred=X_torch[j]*w+b\n",
        "    loss=torch.pow(y_pred-y_torch[j],1)\n",
        "    loss.backward()\n",
        "    with torch.no_grad():\n",
        "      w-=lr*w.grad\n",
        "      b-=lr*b.grad\n",
        "      w.grad.zero_()\n",
        "      b.grad.zero_()\n",
        "y_pred=X_torch*w+b\n",
        "loss=torch.mean((y_pred-y_torch)**2)\n",
        "print(loss.item())"
      ],
      "metadata": {
        "colab": {
          "base_uri": "https://localhost:8080/"
        },
        "id": "_RQ_Vb6KSPyU",
        "outputId": "997add5f-81e6-4451-d05a-ec543770c461"
      },
      "execution_count": 69,
      "outputs": [
        {
          "output_type": "stream",
          "name": "stdout",
          "text": [
            "153119.796875\n"
          ]
        }
      ]
    },
    {
      "cell_type": "code",
      "source": [
        "w=torch.rand(1,requires_grad=True,dtype=torch.float32)\n",
        "b=torch.rand(1,requires_grad=True,dtype=torch.float32)\n",
        "epoch=1000\n",
        "lr=0.01\n",
        "for i in range(epoch):\n",
        "  for j in range(len(X_torch)):\n",
        "    y_pred=X_torch[j]*w+b\n",
        "    loss=torch.pow(y_pred-y_torch[j],1)\n",
        "    loss.backward()\n",
        "    with torch.no_grad():\n",
        "      w-=lr*w.grad\n",
        "      b-=lr*b.grad\n",
        "      w.grad.zero_()\n",
        "      b.grad.zero_()\n",
        "y_pred=X_torch*w+b\n",
        "loss=torch.mean((y_pred-y_torch)**2)\n",
        "print(loss.item())"
      ],
      "metadata": {
        "colab": {
          "base_uri": "https://localhost:8080/"
        },
        "id": "--k4ecs0TTkg",
        "outputId": "615668ef-2f1e-4dbf-985f-956851ee5875"
      },
      "execution_count": 70,
      "outputs": [
        {
          "output_type": "stream",
          "name": "stdout",
          "text": [
            "14292448.0\n"
          ]
        }
      ]
    },
    {
      "cell_type": "code",
      "source": [
        "w=torch.rand(1,requires_grad=True,dtype=torch.float32)\n",
        "b=torch.rand(1,requires_grad=True,dtype=torch.float32)\n",
        "epoch=1000\n",
        "lr=0.01\n",
        "for i in range(epoch):\n",
        "  for j in range(len(X_torch)):\n",
        "    y_pred=X_torch[j]*w+b\n",
        "    loss=torch.abs(y_pred-y_torch[j])\n",
        "    loss.backward()\n",
        "    with torch.no_grad():\n",
        "      w-=lr*w.grad\n",
        "      b-=lr*b.grad\n",
        "      w.grad.zero_()\n",
        "      b.grad.zero_()\n",
        "y_pred=X_torch*w+b\n",
        "loss=torch.mean((y_pred-y_torch)**2)\n",
        "print(loss.item())"
      ],
      "metadata": {
        "colab": {
          "base_uri": "https://localhost:8080/"
        },
        "id": "4jbIzhqHWMbs",
        "outputId": "7afeed9a-6518-4eec-98d3-bae5b172fd72"
      },
      "execution_count": 71,
      "outputs": [
        {
          "output_type": "stream",
          "name": "stdout",
          "text": [
            "9.641570091247559\n"
          ]
        }
      ]
    },
    {
      "cell_type": "code",
      "source": [
        "import torch.nn as nn"
      ],
      "metadata": {
        "id": "NXEAg_cKWudP"
      },
      "execution_count": 73,
      "outputs": []
    },
    {
      "cell_type": "code",
      "source": [
        "class LinearRegresionTorch(nn.Module):\n",
        "  def __init__(self,input_size,output_size):\n",
        "    super().__init__()\n",
        "    self.linear=nn.Linear(input_size,output_size)\n",
        "    self.relu=nn.ReLU()\n",
        "    self.sigmoid=nn.Sigmoid()\n",
        "    self.tanh=nn.Tanh()\n",
        "  def forward(self,x):\n",
        "    return self.linear(x)"
      ],
      "metadata": {
        "id": "HeRz6dPvW5kP"
      },
      "execution_count": 78,
      "outputs": []
    },
    {
      "cell_type": "code",
      "source": [
        "input_size=1\n",
        "output_size=1\n",
        "model=LinearRegresionTorch(input_size,output_size)\n",
        "loss=nn.MSELoss()\n",
        "optimizer=torch.optim.SGD(model.parameters(),lr=0.02)"
      ],
      "metadata": {
        "id": "ejQIpEDBX2Wb"
      },
      "execution_count": 100,
      "outputs": []
    },
    {
      "cell_type": "code",
      "source": [
        "losses,slope,bias=[],[],[]\n",
        "num_epochs=1000\n",
        "for i in range(num_epochs):\n",
        "  optimizer.zero_grad()\n",
        "  y_pred=model(X_torch)\n",
        "  l=loss(y_pred,y_torch)\n",
        "  l.backward()\n",
        "  optimizer.step()\n",
        "  losses.append(l.item())\n",
        "  slope.append(model.linear.weight.item())\n",
        "  bias.append(model.linear.bias.item())\n",
        "  if i%100==0:\n",
        "    print(f'epoch {i} loss {l.item()}')"
      ],
      "metadata": {
        "colab": {
          "base_uri": "https://localhost:8080/"
        },
        "id": "ociGTWjpX6EU",
        "outputId": "678c3443-1938-4116-d348-d7b2cdc1d1a8"
      },
      "execution_count": 104,
      "outputs": [
        {
          "output_type": "stream",
          "name": "stdout",
          "text": [
            "epoch 0 loss 8.941789627075195\n",
            "epoch 100 loss 8.830398559570312\n",
            "epoch 200 loss 8.76981258392334\n",
            "epoch 300 loss 8.736859321594238\n",
            "epoch 400 loss 8.718936920166016\n",
            "epoch 500 loss 8.709189414978027\n",
            "epoch 600 loss 8.703886985778809\n",
            "epoch 700 loss 8.701001167297363\n",
            "epoch 800 loss 8.699433326721191\n",
            "epoch 900 loss 8.698579788208008\n"
          ]
        }
      ]
    },
    {
      "cell_type": "code",
      "source": [
        "sns.scatterplot(x='wt', y='mpg', data=cars)"
      ],
      "metadata": {
        "colab": {
          "base_uri": "https://localhost:8080/",
          "height": 471
        },
        "id": "UEiTL6R2Y-4j",
        "outputId": "b5b01566-dcfe-47fa-d193-69d33cbdcfd7"
      },
      "execution_count": 102,
      "outputs": [
        {
          "output_type": "execute_result",
          "data": {
            "text/plain": [
              "<Axes: xlabel='wt', ylabel='mpg'>"
            ]
          },
          "metadata": {},
          "execution_count": 102
        },
        {
          "output_type": "display_data",
          "data": {
            "text/plain": [
              "<Figure size 640x480 with 1 Axes>"
            ],
            "image/png": "[encoded data removed]"
          },
          "metadata": {}
        }
      ]
    },
    {
      "cell_type": "code",
      "source": [
        "sns.regplot(x='wt', y='mpg', data=cars)"
      ],
      "metadata": {
        "colab": {
          "base_uri": "https://localhost:8080/",
          "height": 468
        },
        "id": "jieE2e9yZF8Z",
        "outputId": "0dd3f529-158e-470b-e822-ea31e6145017"
      },
      "execution_count": 103,
      "outputs": [
        {
          "output_type": "execute_result",
          "data": {
            "text/plain": [
              "<Axes: xlabel='wt', ylabel='mpg'>"
            ]
          },
          "metadata": {},
          "execution_count": 103
        },
        {
          "output_type": "display_data",
          "data": {
            "text/plain": [
              "<Figure size 640x480 with 1 Axes>"
            ],
            "image/png": "[encoded data removed]"
          },
          "metadata": {}
        }
      ]
    },
    {
      "cell_type": "code",
      "source": [
        "sns.lineplot(x=range(num_epochs),y=losses)"
      ],
      "metadata": {
        "colab": {
          "base_uri": "https://localhost:8080/",
          "height": 447
        },
        "id": "cM1_KI_SaYOU",
        "outputId": "e5ba5afe-3889-4ba5-8c9e-3a9255c0550b"
      },
      "execution_count": 105,
      "outputs": [
        {
          "output_type": "execute_result",
          "data": {
            "text/plain": [
              "<Axes: >"
            ]
          },
          "metadata": {},
          "execution_count": 105
        },
        {
          "output_type": "display_data",
          "data": {
            "text/plain": [
              "<Figure size 640x480 with 1 Axes>"
            ],
            "image/png": "[encoded data removed]"
          },
          "metadata": {}
        }
      ]
    },
    {
      "cell_type": "code",
      "source": [
        "sns.lineplot(x=range(num_epochs),y=slope)"
      ],
      "metadata": {
        "colab": {
          "base_uri": "https://localhost:8080/",
          "height": 447
        },
        "id": "2WlU91lDahME",
        "outputId": "1c564c96-d8d7-4084-dc1e-14f9bfc249e8"
      },
      "execution_count": 106,
      "outputs": [
        {
          "output_type": "execute_result",
          "data": {
            "text/plain": [
              "<Axes: >"
            ]
          },
          "metadata": {},
          "execution_count": 106
        },
        {
          "output_type": "display_data",
          "data": {
            "text/plain": [
              "<Figure size 640x480 with 1 Axes>"
            ],
            "image/png": "[encoded data removed]"
          },
          "metadata": {}
        }
      ]
    },
    {
      "cell_type": "code",
      "source": [
        "sns.lineplot(x=range(num_epochs),y=bias)"
      ],
      "metadata": {
        "colab": {
          "base_uri": "https://localhost:8080/",
          "height": 447
        },
        "id": "ySppENE8ajZe",
        "outputId": "1c06d0f9-db2c-43b8-8fe7-2bf5e4b56042"
      },
      "execution_count": 107,
      "outputs": [
        {
          "output_type": "execute_result",
          "data": {
            "text/plain": [
              "<Axes: >"
            ]
          },
          "metadata": {},
          "execution_count": 107
        },
        {
          "output_type": "display_data",
          "data": {
            "text/plain": [
              "<Figure size 640x480 with 1 Axes>"
            ],
            "image/png": "[encoded data removed]"
          },
          "metadata": {}
        }
      ]
    },
    {
      "cell_type": "code",
      "source": [
        "input_size=1\n",
        "output_size=1\n",
        "model=LinearRegresionTorch(input_size,output_size)\n",
        "loss=nn.L1Loss()\n",
        "optimizer=torch.optim.SGD(model.parameters(),lr=0.02)\n",
        "losses,slope,bias=[],[],[]\n",
        "num_epochs=1000\n",
        "for i in range(num_epochs):\n",
        "  optimizer.zero_grad()\n",
        "  y_pred=model(X_torch)\n",
        "  l=loss(y_pred,y_torch)\n",
        "  l.backward()\n",
        "  optimizer.step()\n",
        "  losses.append(l.item())\n",
        "  slope.append(model.linear.weight.item())\n",
        "  bias.append(model.linear.bias.item())\n",
        "  if i%100==0:\n",
        "    print(f'epoch {i} loss {l.item()}')"
      ],
      "metadata": {
        "colab": {
          "base_uri": "https://localhost:8080/"
        },
        "id": "lxMaU4rrakjZ",
        "outputId": "2a3f3f1c-7f10-41d6-f848-3ffa3c7b5e32"
      },
      "execution_count": 109,
      "outputs": [
        {
          "output_type": "stream",
          "name": "stdout",
          "text": [
            "epoch 0 loss 17.380523681640625\n",
            "epoch 100 loss 8.135297775268555\n",
            "epoch 200 loss 7.965907096862793\n",
            "epoch 300 loss 7.887213706970215\n",
            "epoch 400 loss 7.808520317077637\n",
            "epoch 500 loss 7.729825496673584\n",
            "epoch 600 loss 7.651220321655273\n",
            "epoch 700 loss 7.572525978088379\n",
            "epoch 800 loss 7.493836402893066\n",
            "epoch 900 loss 7.415146827697754\n"
          ]
        }
      ]
    },
    {
      "cell_type": "code",
      "source": [
        "input_size=1\n",
        "output_size=1\n",
        "model=LinearRegresionTorch(input_size,output_size)\n",
        "loss=nn.SmoothL1Loss()\n",
        "optimizer=torch.optim.SGD(model.parameters(),lr=0.02)\n",
        "losses,slope,bias=[],[],[]\n",
        "num_epochs=1000\n",
        "for i in range(num_epochs):\n",
        "  optimizer.zero_grad()\n",
        "  y_pred=model(X_torch)\n",
        "  l=loss(y_pred,y_torch)\n",
        "  l.backward()\n",
        "  optimizer.step()\n",
        "  losses.append(l.item())\n",
        "  slope.append(model.linear.weight.item())\n",
        "  bias.append(model.linear.bias.item())\n",
        "  if i%100==0:\n",
        "    print(f'epoch {i} loss {l.item()}')"
      ],
      "metadata": {
        "colab": {
          "base_uri": "https://localhost:8080/"
        },
        "id": "GlouLeEFbUJT",
        "outputId": "db1271d8-96e4-43a9-b5d5-1285f56757bd"
      },
      "execution_count": 112,
      "outputs": [
        {
          "output_type": "stream",
          "name": "stdout",
          "text": [
            "epoch 0 loss 16.11312484741211\n",
            "epoch 100 loss 7.509147644042969\n",
            "epoch 200 loss 7.37989616394043\n",
            "epoch 300 loss 7.30253267288208\n",
            "epoch 400 loss 7.225400447845459\n",
            "epoch 500 loss 7.148438930511475\n",
            "epoch 600 loss 7.071646213531494\n",
            "epoch 700 loss 6.995021343231201\n",
            "epoch 800 loss 6.918565273284912\n",
            "epoch 900 loss 6.842275619506836\n"
          ]
        }
      ]
    },
    {
      "cell_type": "code",
      "source": [
        "input_size=1\n",
        "output_size=1\n",
        "model=LinearRegresionTorch(input_size,output_size)\n",
        "loss=nn.SmoothL1Loss()\n",
        "optimizer=torch.optim.AdamW(model.parameters(),lr=0.02)\n",
        "losses,slope,bias=[],[],[]\n",
        "num_epochs=1000\n",
        "for i in range(num_epochs):\n",
        "  optimizer.zero_grad()\n",
        "  y_pred=model(X_torch)\n",
        "  l=loss(y_pred,y_torch)\n",
        "  l.backward()\n",
        "  optimizer.step()\n",
        "  losses.append(l.item())\n",
        "  slope.append(model.linear.weight.item())\n",
        "  bias.append(model.linear.bias.item())\n",
        "  if i%100==0:\n",
        "    print(f'epoch {i} loss {l.item()}')"
      ],
      "metadata": {
        "colab": {
          "base_uri": "https://localhost:8080/"
        },
        "id": "Zu0-Lha8cL4H",
        "outputId": "7cbdbb8c-682c-44bc-a26e-832419af97d6"
      },
      "execution_count": 117,
      "outputs": [
        {
          "output_type": "stream",
          "name": "stdout",
          "text": [
            "epoch 0 loss 17.83415412902832\n",
            "epoch 100 loss 10.470369338989258\n",
            "epoch 200 loss 7.369468688964844\n",
            "epoch 300 loss 7.085086822509766\n",
            "epoch 400 loss 6.9725847244262695\n",
            "epoch 500 loss 6.852636814117432\n",
            "epoch 600 loss 6.721016883850098\n",
            "epoch 700 loss 6.578719139099121\n",
            "epoch 800 loss 6.426440715789795\n",
            "epoch 900 loss 6.2648138999938965\n"
          ]
        }
      ]
    },
    {
      "cell_type": "code",
      "source": [
        "input_size=1\n",
        "output_size=1\n",
        "model=LinearRegresionTorch(input_size,output_size)\n",
        "loss=nn.SmoothL1Loss()\n",
        "optimizer=torch.optim.AdamW(model.parameters(),lr=0.19)\n",
        "losses,slope,bias=[],[],[]\n",
        "num_epochs=1000\n",
        "for i in range(num_epochs):\n",
        "  optimizer.zero_grad()\n",
        "  y_pred=model(X_torch)\n",
        "  l=loss(y_pred,y_torch)\n",
        "  l.backward()\n",
        "  optimizer.step()\n",
        "  losses.append(l.item())\n",
        "  slope.append(model.linear.weight.item())\n",
        "  bias.append(model.linear.bias.item())\n",
        "  if i%100==0:\n",
        "    print(f'epoch {i} loss {l.item()}')"
      ],
      "metadata": {
        "colab": {
          "base_uri": "https://localhost:8080/"
        },
        "id": "8uTEi--4cTb6",
        "outputId": "da6ccc4e-d1e4-4df1-adc3-c230ff974e27"
      },
      "execution_count": 120,
      "outputs": [
        {
          "output_type": "stream",
          "name": "stdout",
          "text": [
            "epoch 0 loss 19.619476318359375\n",
            "epoch 100 loss 6.28804349899292\n",
            "epoch 200 loss 4.834805488586426\n",
            "epoch 300 loss 3.3043437004089355\n",
            "epoch 400 loss 2.3731689453125\n",
            "epoch 500 loss 2.045994520187378\n",
            "epoch 600 loss 1.9884979724884033\n",
            "epoch 700 loss 1.97188138961792\n",
            "epoch 800 loss 1.9603016376495361\n",
            "epoch 900 loss 1.9507505893707275\n"
          ]
        }
      ]
    },
    {
      "cell_type": "code",
      "source": [
        "sns.lineplot(x=range(num_epochs),y=losses)"
      ],
      "metadata": {
        "colab": {
          "base_uri": "https://localhost:8080/",
          "height": 447
        },
        "id": "-QVqZfoWcY57",
        "outputId": "08a10923-77db-48d4-cac2-2ec5fc9bfc45"
      },
      "execution_count": 121,
      "outputs": [
        {
          "output_type": "execute_result",
          "data": {
            "text/plain": [
              "<Axes: >"
            ]
          },
          "metadata": {},
          "execution_count": 121
        },
        {
          "output_type": "display_data",
          "data": {
            "text/plain": [
              "<Figure size 640x480 with 1 Axes>"
            ],
            "image/png": "[encoded data removed]"
          },
          "metadata": {}
        }
      ]
    },
    {
      "cell_type": "code",
      "source": [
        "sns.lineplot(x=np.array(X_torch.numpy().flatten()),y=np.array(model(X_torch).detach().numpy().flatten()))\n",
        "sns.scatterplot(x='wt', y='mpg', data=cars)"
      ],
      "metadata": {
        "colab": {
          "base_uri": "https://localhost:8080/",
          "height": 471
        },
        "id": "I0DyYcnjckge",
        "outputId": "7236958e-8acc-4a15-b465-fa5b8904de5c"
      },
      "execution_count": 132,
      "outputs": [
        {
          "output_type": "execute_result",
          "data": {
            "text/plain": [
              "<Axes: xlabel='wt', ylabel='mpg'>"
            ]
          },
          "metadata": {},
          "execution_count": 132
        },
        {
          "output_type": "display_data",
          "data": {
            "text/plain": [
              "<Figure size 640x480 with 1 Axes>"
            ],
            "image/png": "[encoded data removed]"
          },
          "metadata": {}
        }
      ]
    },
    {
      "cell_type": "code",
      "source": [
        "BATCH_SIZE=10\n",
        "input_size=1\n",
        "output_size=1\n",
        "model=LinearRegresionTorch(input_size,output_size)\n",
        "loss=nn.SmoothL1Loss()\n",
        "optimizer=torch.optim.AdamW(model.parameters(),lr=0.19)\n",
        "losses,slope,bias=[],[],[]\n",
        "num_epochs=1000\n",
        "for i in range(num_epochs):\n",
        "  for i in range(0,len(X_torch),BATCH_SIZE):\n",
        "    y_pred=model(X_torch[i:i+BATCH_SIZE])\n",
        "    optimizer.zero_grad()\n",
        "    y_pred=model(X_torch[i:i+BATCH_SIZE])\n",
        "    l=loss(y_pred,y_torch[i:i+BATCH_SIZE])\n",
        "    l.backward()\n",
        "    optimizer.step()\n",
        "    losses.append(l.item())\n",
        "    slope.append(model.linear.weight.item())\n",
        "    bias.append(model.linear.bias.item())\n",
        "    if i%100==0:\n",
        "      print(f'epoch {i} loss {l.item()}')"
      ],
      "metadata": {
        "colab": {
          "base_uri": "https://localhost:8080/"
        },
        "id": "FEXLxRayc2zG",
        "outputId": "b432573a-d160-4529-f318-2bf9db7ecfdf"
      },
      "execution_count": 133,
      "outputs": [
        {
          "output_type": "stream",
          "name": "stdout",
          "text": [
            "epoch 0 loss 19.886150360107422\n",
            "epoch 0 loss 16.76619529724121\n",
            "epoch 0 loss 13.673556327819824\n",
            "epoch 0 loss 10.679668426513672\n",
            "epoch 0 loss 7.834545135498047\n",
            "epoch 0 loss 5.633452415466309\n",
            "epoch 0 loss 4.144164085388184\n",
            "epoch 0 loss 3.5583672523498535\n",
            "epoch 0 loss 3.4276206493377686\n",
            "epoch 0 loss 3.4121253490448\n",
            "epoch 0 loss 3.468644618988037\n",
            "epoch 0 loss 3.632063388824463\n",
            "epoch 0 loss 3.9521255493164062\n",
            "epoch 0 loss 4.327357292175293\n",
            "epoch 0 loss 4.6125078201293945\n",
            "epoch 0 loss 4.748883247375488\n",
            "epoch 0 loss 4.746598720550537\n",
            "epoch 0 loss 4.647144317626953\n",
            "epoch 0 loss 4.499309539794922\n",
            "epoch 0 loss 4.3514204025268555\n",
            "epoch 0 loss 4.233861923217773\n",
            "epoch 0 loss 4.1562018394470215\n",
            "epoch 0 loss 4.116004943847656\n",
            "epoch 0 loss 4.104231834411621\n",
            "epoch 0 loss 4.1091742515563965\n",
            "epoch 0 loss 4.1195220947265625\n",
            "epoch 0 loss 4.126500606536865\n",
            "epoch 0 loss 4.124947547912598\n",
            "epoch 0 loss 4.113314628601074\n",
            "epoch 0 loss 4.092872619628906\n",
            "epoch 0 loss 4.066474914550781\n",
            "epoch 0 loss 4.03738260269165\n",
            "epoch 0 loss 4.008363723754883\n",
            "epoch 0 loss 3.981238603591919\n",
            "epoch 0 loss 3.9567832946777344\n",
            "epoch 0 loss 3.9349167346954346\n",
            "epoch 0 loss 3.9146454334259033\n",
            "epoch 0 loss 3.894699811935425\n",
            "epoch 0 loss 3.8738434314727783\n",
            "epoch 0 loss 3.851377010345459\n",
            "epoch 0 loss 3.827255964279175\n",
            "epoch 0 loss 3.801892042160034\n",
            "epoch 0 loss 3.7758896350860596\n",
            "epoch 0 loss 3.7498345375061035\n",
            "epoch 0 loss 3.7241530418395996\n",
            "epoch 0 loss 3.6990599632263184\n",
            "epoch 0 loss 3.6745758056640625\n",
            "epoch 0 loss 3.650592803955078\n",
            "epoch 0 loss 3.6269443035125732\n",
            "epoch 0 loss 3.603468418121338\n",
            "epoch 0 loss 3.580045223236084\n",
            "epoch 0 loss 3.5566158294677734\n",
            "epoch 0 loss 3.5331757068634033\n",
            "epoch 0 loss 3.5097579956054688\n",
            "epoch 0 loss 3.4864094257354736\n",
            "epoch 0 loss 3.463176727294922\n",
            "epoch 0 loss 3.440092086791992\n",
            "epoch 0 loss 3.417172908782959\n",
            "epoch 0 loss 3.3944191932678223\n",
            "epoch 0 loss 3.3718223571777344\n",
            "epoch 0 loss 3.3493733406066895\n",
            "epoch 0 loss 3.3270554542541504\n",
            "epoch 0 loss 3.304905652999878\n",
            "epoch 0 loss 3.2832322120666504\n",
            "epoch 0 loss 3.2621238231658936\n",
            "epoch 0 loss 3.2414963245391846\n",
            "epoch 0 loss 3.2211849689483643\n",
            "epoch 0 loss 3.201019287109375\n",
            "epoch 0 loss 3.180884599685669\n",
            "epoch 0 loss 3.1607325077056885\n",
            "epoch 0 loss 3.140578269958496\n",
            "epoch 0 loss 3.120474338531494\n",
            "epoch 0 loss 3.1006805896759033\n",
            "epoch 0 loss 3.081535577774048\n",
            "epoch 0 loss 3.0631661415100098\n",
            "epoch 0 loss 3.0454869270324707\n",
            "epoch 0 loss 3.0282936096191406\n",
            "epoch 0 loss 3.011354923248291\n",
            "epoch 0 loss 2.9944827556610107\n",
            "epoch 0 loss 2.9775614738464355\n",
            "epoch 0 loss 2.9605565071105957\n",
            "epoch 0 loss 2.943485736846924\n",
            "epoch 0 loss 2.926413059234619\n",
            "epoch 0 loss 2.90939998626709\n",
            "epoch 0 loss 2.8924994468688965\n",
            "epoch 0 loss 2.8757381439208984\n",
            "epoch 0 loss 2.8591294288635254\n",
            "epoch 0 loss 2.8426620960235596\n",
            "epoch 0 loss 2.8263168334960938\n",
            "epoch 0 loss 2.8100805282592773\n",
            "epoch 0 loss 2.793936252593994\n",
            "epoch 0 loss 2.777878761291504\n",
            "epoch 0 loss 2.76190185546875\n",
            "epoch 0 loss 2.74600887298584\n",
            "epoch 0 loss 2.730203628540039\n",
            "epoch 0 loss 2.7144861221313477\n",
            "epoch 0 loss 2.6988649368286133\n",
            "epoch 0 loss 2.683340549468994\n",
            "epoch 0 loss 2.6679129600524902\n",
            "epoch 0 loss 2.652583599090576\n",
            "epoch 0 loss 2.6373438835144043\n",
            "epoch 0 loss 2.6221957206726074\n",
            "epoch 0 loss 2.6071393489837646\n",
            "epoch 0 loss 2.5921730995178223\n",
            "epoch 0 loss 2.577296018600464\n",
            "epoch 0 loss 2.5625081062316895\n",
            "epoch 0 loss 2.5478076934814453\n",
            "epoch 0 loss 2.5331926345825195\n",
            "epoch 0 loss 2.5186681747436523\n",
            "epoch 0 loss 2.504232883453369\n",
            "epoch 0 loss 2.4898836612701416\n",
            "epoch 0 loss 2.4756178855895996\n",
            "epoch 0 loss 2.461437940597534\n",
            "epoch 0 loss 2.447345018386841\n",
            "epoch 0 loss 2.433337688446045\n",
            "epoch 0 loss 2.419412136077881\n",
            "epoch 0 loss 2.405571222305298\n",
            "epoch 0 loss 2.391814708709717\n",
            "epoch 0 loss 2.3781425952911377\n",
            "epoch 0 loss 2.3645529747009277\n",
            "epoch 0 loss 2.351043224334717\n",
            "epoch 0 loss 2.3375444412231445\n",
            "epoch 0 loss 2.3234786987304688\n",
            "epoch 0 loss 2.30903697013855\n",
            "epoch 0 loss 2.2948765754699707\n",
            "epoch 0 loss 2.2813515663146973\n",
            "epoch 0 loss 2.268482208251953\n",
            "epoch 0 loss 2.256063222885132\n",
            "epoch 0 loss 2.243833065032959\n",
            "epoch 0 loss 2.229663133621216\n",
            "epoch 0 loss 2.2120919227600098\n",
            "epoch 0 loss 2.191885471343994\n",
            "epoch 0 loss 2.1710448265075684\n",
            "epoch 0 loss 2.1513285636901855\n",
            "epoch 0 loss 2.1334307193756104\n",
            "epoch 0 loss 2.117008686065674\n",
            "epoch 0 loss 2.1012122631073\n",
            "epoch 0 loss 2.0853123664855957\n",
            "epoch 0 loss 2.069023609161377\n",
            "epoch 0 loss 2.0525074005126953\n",
            "epoch 0 loss 2.036116361618042\n",
            "epoch 0 loss 2.020148754119873\n",
            "epoch 0 loss 2.004706621170044\n",
            "epoch 0 loss 1.98970627784729\n",
            "epoch 0 loss 1.974989891052246\n",
            "epoch 0 loss 1.9604251384735107\n",
            "epoch 0 loss 1.9459699392318726\n",
            "epoch 0 loss 1.9316551685333252\n",
            "epoch 0 loss 1.9175437688827515\n",
            "epoch 0 loss 1.9036839008331299\n",
            "epoch 0 loss 1.8903449773788452\n",
            "epoch 0 loss 1.8775907754898071\n",
            "epoch 0 loss 1.8652349710464478\n",
            "epoch 0 loss 1.853036880493164\n",
            "epoch 0 loss 1.8408628702163696\n",
            "epoch 0 loss 1.828722596168518\n",
            "epoch 0 loss 1.8167140483856201\n",
            "epoch 0 loss 1.8049274682998657\n",
            "epoch 0 loss 1.7933979034423828\n",
            "epoch 0 loss 1.7820968627929688\n",
            "epoch 0 loss 1.7709709405899048\n",
            "epoch 0 loss 1.759979248046875\n",
            "epoch 0 loss 1.749119520187378\n",
            "epoch 0 loss 1.738673210144043\n",
            "epoch 0 loss 1.7290359735488892\n",
            "epoch 0 loss 1.7200539112091064\n",
            "epoch 0 loss 1.7113338708877563\n",
            "epoch 0 loss 1.702575922012329\n",
            "epoch 0 loss 1.6937320232391357\n",
            "epoch 0 loss 1.6852861642837524\n",
            "epoch 0 loss 1.677647352218628\n",
            "epoch 0 loss 1.6706527471542358\n",
            "epoch 0 loss 1.6638615131378174\n",
            "epoch 0 loss 1.6569709777832031\n",
            "epoch 0 loss 1.6499626636505127\n",
            "epoch 0 loss 1.6430187225341797\n",
            "epoch 0 loss 1.6363236904144287\n",
            "epoch 0 loss 1.629927396774292\n",
            "epoch 0 loss 1.6237602233886719\n",
            "epoch 0 loss 1.617723822593689\n",
            "epoch 0 loss 1.6117570400238037\n",
            "epoch 0 loss 1.6058708429336548\n",
            "epoch 0 loss 1.600102424621582\n",
            "epoch 0 loss 1.5944913625717163\n",
            "epoch 0 loss 1.5890378952026367\n",
            "epoch 0 loss 1.583715796470642\n",
            "epoch 0 loss 1.5784977674484253\n",
            "epoch 0 loss 1.5733764171600342\n",
            "epoch 0 loss 1.5683552026748657\n",
            "epoch 0 loss 1.5634442567825317\n",
            "epoch 0 loss 1.5586426258087158\n",
            "epoch 0 loss 1.5539451837539673\n",
            "epoch 0 loss 1.5493446588516235\n",
            "epoch 0 loss 1.5452814102172852\n",
            "epoch 0 loss 1.5421603918075562\n",
            "epoch 0 loss 1.539795160293579\n",
            "epoch 0 loss 1.5376501083374023\n",
            "epoch 0 loss 1.5352635383605957\n",
            "epoch 0 loss 1.5324890613555908\n",
            "epoch 0 loss 1.5294784307479858\n",
            "epoch 0 loss 1.5264809131622314\n",
            "epoch 0 loss 1.5236670970916748\n",
            "epoch 0 loss 1.5210514068603516\n",
            "epoch 0 loss 1.5185439586639404\n",
            "epoch 0 loss 1.5160304307937622\n",
            "epoch 0 loss 1.5134553909301758\n",
            "epoch 0 loss 1.5108305215835571\n",
            "epoch 0 loss 1.5082061290740967\n",
            "epoch 0 loss 1.5056259632110596\n",
            "epoch 0 loss 1.5031068325042725\n",
            "epoch 0 loss 1.5006338357925415\n",
            "epoch 0 loss 1.4981811046600342\n",
            "epoch 0 loss 1.4957332611083984\n",
            "epoch 0 loss 1.4932887554168701\n",
            "epoch 0 loss 1.4908573627471924\n",
            "epoch 0 loss 1.488447904586792\n",
            "epoch 0 loss 1.4860634803771973\n",
            "epoch 0 loss 1.4837045669555664\n",
            "epoch 0 loss 1.481367826461792\n",
            "epoch 0 loss 1.4790465831756592\n",
            "epoch 0 loss 1.4767409563064575\n",
            "epoch 0 loss 1.474453330039978\n",
            "epoch 0 loss 1.472182035446167\n",
            "epoch 0 loss 1.4699294567108154\n",
            "epoch 0 loss 1.4676975011825562\n",
            "epoch 0 loss 1.4654862880706787\n",
            "epoch 0 loss 1.4632905721664429\n",
            "epoch 0 loss 1.4611114263534546\n",
            "epoch 0 loss 1.4590755701065063\n",
            "epoch 0 loss 1.4571812152862549\n",
            "epoch 0 loss 1.4553442001342773\n",
            "epoch 0 loss 1.453482985496521\n",
            "epoch 0 loss 1.4515750408172607\n",
            "epoch 0 loss 1.4496455192565918\n",
            "epoch 0 loss 1.447740912437439\n",
            "epoch 0 loss 1.4458849430084229\n",
            "epoch 0 loss 1.4440739154815674\n",
            "epoch 0 loss 1.442283034324646\n",
            "epoch 0 loss 1.4404966831207275\n",
            "epoch 0 loss 1.4387147426605225\n",
            "epoch 0 loss 1.4369428157806396\n",
            "epoch 0 loss 1.4351882934570312\n",
            "epoch 0 loss 1.433456540107727\n",
            "epoch 0 loss 1.431749939918518\n",
            "epoch 0 loss 1.4300589561462402\n",
            "epoch 0 loss 1.428520917892456\n",
            "epoch 0 loss 1.4274771213531494\n",
            "epoch 0 loss 1.4268453121185303\n",
            "epoch 0 loss 1.4262014627456665\n",
            "epoch 0 loss 1.4252926111221313\n",
            "epoch 0 loss 1.4242141246795654\n",
            "epoch 0 loss 1.4233357906341553\n",
            "epoch 0 loss 1.4227521419525146\n",
            "epoch 0 loss 1.4222562313079834\n",
            "epoch 0 loss 1.4216454029083252\n",
            "epoch 0 loss 1.4209156036376953\n",
            "epoch 0 loss 1.4201937913894653\n",
            "epoch 0 loss 1.4195717573165894\n",
            "epoch 0 loss 1.4190303087234497\n",
            "epoch 0 loss 1.418487787246704\n",
            "epoch 0 loss 1.417910099029541\n",
            "epoch 0 loss 1.4173250198364258\n",
            "epoch 0 loss 1.4167693853378296\n",
            "epoch 0 loss 1.416252851486206\n",
            "epoch 0 loss 1.4157564640045166\n",
            "epoch 0 loss 1.4152600765228271\n",
            "epoch 0 loss 1.414764642715454\n",
            "epoch 0 loss 1.4142824411392212\n",
            "epoch 0 loss 1.4138190746307373\n",
            "epoch 0 loss 1.4133719205856323\n",
            "epoch 0 loss 1.4129359722137451\n",
            "epoch 0 loss 1.4125057458877563\n",
            "epoch 0 loss 1.4120838642120361\n",
            "epoch 0 loss 1.4116729497909546\n",
            "epoch 0 loss 1.4112780094146729\n",
            "epoch 0 loss 1.410893201828003\n",
            "epoch 0 loss 1.4105165004730225\n",
            "epoch 0 loss 1.410144329071045\n",
            "epoch 0 loss 1.4097836017608643\n",
            "epoch 0 loss 1.4094345569610596\n",
            "epoch 0 loss 1.409094214439392\n",
            "epoch 0 loss 1.408761978149414\n",
            "epoch 0 loss 1.408434510231018\n",
            "epoch 0 loss 1.4081192016601562\n",
            "epoch 0 loss 1.4078104496002197\n",
            "epoch 0 loss 1.4075100421905518\n",
            "epoch 0 loss 1.4072166681289673\n",
            "epoch 0 loss 1.4069302082061768\n",
            "epoch 0 loss 1.4066510200500488\n",
            "epoch 0 loss 1.4063787460327148\n",
            "epoch 0 loss 1.4061130285263062\n",
            "epoch 0 loss 1.4058564901351929\n",
            "epoch 0 loss 1.405604362487793\n",
            "epoch 0 loss 1.405357003211975\n",
            "epoch 0 loss 1.4051192998886108\n",
            "epoch 0 loss 1.4048858880996704\n",
            "epoch 0 loss 1.4046587944030762\n",
            "epoch 0 loss 1.4044358730316162\n",
            "epoch 0 loss 1.4042198657989502\n",
            "epoch 0 loss 1.4040067195892334\n",
            "epoch 0 loss 1.4038022756576538\n",
            "epoch 0 loss 1.4036052227020264\n",
            "epoch 0 loss 1.4034086465835571\n",
            "epoch 0 loss 1.4032151699066162\n",
            "epoch 0 loss 1.4030319452285767\n",
            "epoch 0 loss 1.402850866317749\n",
            "epoch 0 loss 1.4026771783828735\n",
            "epoch 0 loss 1.4025055170059204\n",
            "epoch 0 loss 1.4023356437683105\n",
            "epoch 0 loss 1.4020131826400757\n",
            "epoch 0 loss 1.4013159275054932\n",
            "epoch 0 loss 1.4004919528961182\n",
            "epoch 0 loss 1.3998619318008423\n",
            "epoch 0 loss 1.3994433879852295\n",
            "epoch 0 loss 1.3990318775177002\n",
            "epoch 0 loss 1.3985055685043335\n",
            "epoch 0 loss 1.397931694984436\n",
            "epoch 0 loss 1.3974297046661377\n",
            "epoch 0 loss 1.397013783454895\n",
            "epoch 0 loss 1.3966175317764282\n",
            "epoch 0 loss 1.3961904048919678\n",
            "epoch 0 loss 1.395754098892212\n",
            "epoch 0 loss 1.3953458070755005\n",
            "epoch 0 loss 1.3949756622314453\n",
            "epoch 0 loss 1.3946220874786377\n",
            "epoch 0 loss 1.3942649364471436\n",
            "epoch 0 loss 1.3939093351364136\n",
            "epoch 0 loss 1.393568754196167\n",
            "epoch 0 loss 1.3932472467422485\n",
            "epoch 0 loss 1.3929376602172852\n",
            "epoch 0 loss 1.3926337957382202\n",
            "epoch 0 loss 1.392332673072815\n",
            "epoch 0 loss 1.3920438289642334\n",
            "epoch 0 loss 1.3917640447616577\n",
            "epoch 0 loss 1.3914915323257446\n",
            "epoch 0 loss 1.3912261724472046\n",
            "epoch 0 loss 1.390968680381775\n",
            "epoch 0 loss 1.390716552734375\n",
            "epoch 0 loss 1.3904695510864258\n",
            "epoch 0 loss 1.3902305364608765\n",
            "epoch 0 loss 1.3899997472763062\n",
            "epoch 0 loss 1.3897712230682373\n",
            "epoch 0 loss 1.3895477056503296\n",
            "epoch 0 loss 1.3893296718597412\n",
            "epoch 0 loss 1.3891180753707886\n",
            "epoch 0 loss 1.388909935951233\n",
            "epoch 0 loss 1.3887065649032593\n",
            "epoch 0 loss 1.3885053396224976\n",
            "epoch 0 loss 1.388312578201294\n",
            "epoch 0 loss 1.388120412826538\n",
            "epoch 0 loss 1.3879321813583374\n",
            "epoch 0 loss 1.38774836063385\n",
            "epoch 0 loss 1.3875691890716553\n",
            "epoch 0 loss 1.3873916864395142\n",
            "epoch 0 loss 1.3872158527374268\n",
            "epoch 0 loss 1.387046217918396\n",
            "epoch 0 loss 1.3868796825408936\n",
            "epoch 0 loss 1.386713981628418\n",
            "epoch 0 loss 1.3865511417388916\n",
            "epoch 0 loss 1.386389970779419\n",
            "epoch 0 loss 1.3862336874008179\n",
            "epoch 0 loss 1.3860805034637451\n",
            "epoch 0 loss 1.3859293460845947\n",
            "epoch 0 loss 1.3857768774032593\n",
            "epoch 0 loss 1.385625958442688\n",
            "epoch 0 loss 1.3854821920394897\n",
            "epoch 0 loss 1.3853397369384766\n",
            "epoch 0 loss 1.385198950767517\n",
            "epoch 0 loss 1.3850593566894531\n",
            "epoch 0 loss 1.3849213123321533\n",
            "epoch 0 loss 1.3847839832305908\n",
            "epoch 0 loss 1.384648084640503\n",
            "epoch 0 loss 1.384516716003418\n",
            "epoch 0 loss 1.3843882083892822\n",
            "epoch 0 loss 1.3842579126358032\n",
            "epoch 0 loss 1.3841291666030884\n",
            "epoch 0 loss 1.3840034008026123\n",
            "epoch 0 loss 1.3838768005371094\n",
            "epoch 0 loss 1.383755087852478\n",
            "epoch 0 loss 1.3836338520050049\n",
            "epoch 0 loss 1.3835138082504272\n",
            "epoch 0 loss 1.3833916187286377\n",
            "epoch 0 loss 1.3832744359970093\n",
            "epoch 0 loss 1.3831592798233032\n",
            "epoch 0 loss 1.3830429315567017\n",
            "epoch 0 loss 1.3829282522201538\n",
            "epoch 0 loss 1.3828157186508179\n",
            "epoch 0 loss 1.382703423500061\n",
            "epoch 0 loss 1.382593035697937\n",
            "epoch 0 loss 1.382481575012207\n",
            "epoch 0 loss 1.3823738098144531\n",
            "epoch 0 loss 1.3822681903839111\n",
            "epoch 0 loss 1.3821594715118408\n",
            "epoch 0 loss 1.3820533752441406\n",
            "epoch 0 loss 1.3819501399993896\n",
            "epoch 0 loss 1.3818464279174805\n",
            "epoch 0 loss 1.3817431926727295\n",
            "epoch 0 loss 1.3816410303115845\n",
            "epoch 0 loss 1.3815410137176514\n",
            "epoch 0 loss 1.3814401626586914\n",
            "epoch 0 loss 1.3813416957855225\n",
            "epoch 0 loss 1.3812437057495117\n",
            "epoch 0 loss 1.381147027015686\n",
            "epoch 0 loss 1.3810487985610962\n",
            "epoch 0 loss 1.3809531927108765\n",
            "epoch 0 loss 1.3808587789535522\n",
            "epoch 0 loss 1.3807653188705444\n",
            "epoch 0 loss 1.380671501159668\n",
            "epoch 0 loss 1.3805803060531616\n",
            "epoch 0 loss 1.3804863691329956\n",
            "epoch 0 loss 1.3803942203521729\n",
            "epoch 0 loss 1.3803071975708008\n",
            "epoch 0 loss 1.3802183866500854\n",
            "epoch 0 loss 1.3801276683807373\n",
            "epoch 0 loss 1.3800376653671265\n",
            "epoch 0 loss 1.3799521923065186\n",
            "epoch 0 loss 1.379865050315857\n",
            "epoch 0 loss 1.3797800540924072\n",
            "epoch 0 loss 1.3796943426132202\n",
            "epoch 0 loss 1.3796093463897705\n",
            "epoch 0 loss 1.3795256614685059\n",
            "epoch 0 loss 1.379441261291504\n",
            "epoch 0 loss 1.3793481588363647\n",
            "epoch 0 loss 1.379247784614563\n",
            "epoch 0 loss 1.3791494369506836\n",
            "epoch 0 loss 1.3790572881698608\n",
            "epoch 0 loss 1.3789688348770142\n",
            "epoch 0 loss 1.3788760900497437\n",
            "epoch 0 loss 1.3787838220596313\n",
            "epoch 0 loss 1.3786909580230713\n",
            "epoch 0 loss 1.3786003589630127\n",
            "epoch 0 loss 1.378512978553772\n",
            "epoch 0 loss 1.3784223794937134\n",
            "epoch 0 loss 1.3783330917358398\n",
            "epoch 0 loss 1.3782438039779663\n",
            "epoch 0 loss 1.3781572580337524\n",
            "epoch 0 loss 1.3780710697174072\n",
            "epoch 0 loss 1.37798273563385\n",
            "epoch 0 loss 1.3778955936431885\n",
            "epoch 0 loss 1.3778109550476074\n",
            "epoch 0 loss 1.3777267932891846\n",
            "epoch 0 loss 1.3776423931121826\n",
            "epoch 0 loss 1.3775575160980225\n",
            "epoch 0 loss 1.3774731159210205\n",
            "epoch 0 loss 1.3773901462554932\n",
            "epoch 0 loss 1.377308964729309\n",
            "epoch 0 loss 1.3772265911102295\n",
            "epoch 0 loss 1.377144455909729\n",
            "epoch 0 loss 1.3770638704299927\n",
            "epoch 0 loss 1.3769820928573608\n",
            "epoch 0 loss 1.3769032955169678\n",
            "epoch 0 loss 1.3768247365951538\n",
            "epoch 0 loss 1.3767454624176025\n",
            "epoch 0 loss 1.3766658306121826\n",
            "epoch 0 loss 1.3765875101089478\n",
            "epoch 0 loss 1.3765102624893188\n",
            "epoch 0 loss 1.3764349222183228\n",
            "epoch 0 loss 1.3763587474822998\n",
            "epoch 0 loss 1.3762820959091187\n",
            "epoch 0 loss 1.3762052059173584\n",
            "epoch 0 loss 1.3761316537857056\n",
            "epoch 0 loss 1.3760589361190796\n",
            "epoch 0 loss 1.3759832382202148\n",
            "epoch 0 loss 1.375908613204956\n",
            "epoch 0 loss 1.3758348226547241\n",
            "epoch 0 loss 1.3757637739181519\n",
            "epoch 0 loss 1.3756929636001587\n",
            "epoch 0 loss 1.3756195306777954\n",
            "epoch 0 loss 1.375548005104065\n",
            "epoch 0 loss 1.3754771947860718\n",
            "epoch 0 loss 1.3754065036773682\n",
            "epoch 0 loss 1.375339150428772\n",
            "epoch 0 loss 1.3752684593200684\n",
            "epoch 0 loss 1.3751986026763916\n",
            "epoch 0 loss 1.375130534172058\n",
            "epoch 0 loss 1.3750630617141724\n",
            "epoch 0 loss 1.3749946355819702\n",
            "epoch 0 loss 1.374927282333374\n",
            "epoch 0 loss 1.3748624324798584\n",
            "epoch 0 loss 1.374794602394104\n",
            "epoch 0 loss 1.374727725982666\n",
            "epoch 0 loss 1.3746616840362549\n",
            "epoch 0 loss 1.3745996952056885\n",
            "epoch 0 loss 1.374534010887146\n",
            "epoch 0 loss 1.374469518661499\n",
            "epoch 0 loss 1.3744043111801147\n",
            "epoch 0 loss 1.3743410110473633\n",
            "epoch 0 loss 1.3742793798446655\n",
            "epoch 0 loss 1.3742159605026245\n",
            "epoch 0 loss 1.3741546869277954\n",
            "epoch 0 loss 1.3740915060043335\n",
            "epoch 0 loss 1.3740280866622925\n",
            "epoch 0 loss 1.373969554901123\n",
            "epoch 0 loss 1.373910665512085\n",
            "epoch 0 loss 1.3738486766815186\n",
            "epoch 0 loss 1.3737870454788208\n",
            "epoch 0 loss 1.3737283945083618\n",
            "epoch 0 loss 1.3736693859100342\n",
            "epoch 0 loss 1.3736116886138916\n",
            "epoch 0 loss 1.3735532760620117\n",
            "epoch 0 loss 1.3734935522079468\n",
            "epoch 0 loss 1.3734357357025146\n",
            "epoch 0 loss 1.3733797073364258\n",
            "epoch 0 loss 1.373322606086731\n",
            "epoch 0 loss 1.3732659816741943\n",
            "epoch 0 loss 1.3732095956802368\n",
            "epoch 0 loss 1.373152494430542\n",
            "epoch 0 loss 1.3730981349945068\n",
            "epoch 0 loss 1.3730453252792358\n",
            "epoch 0 loss 1.3729877471923828\n",
            "epoch 0 loss 1.372933030128479\n",
            "epoch 0 loss 1.3728793859481812\n",
            "epoch 0 loss 1.3728262186050415\n",
            "epoch 0 loss 1.3727734088897705\n",
            "epoch 0 loss 1.3727188110351562\n",
            "epoch 0 loss 1.3726660013198853\n",
            "epoch 0 loss 1.372612714767456\n",
            "epoch 0 loss 1.3725619316101074\n",
            "epoch 0 loss 1.3725111484527588\n",
            "epoch 0 loss 1.3724600076675415\n",
            "epoch 0 loss 1.3724064826965332\n",
            "epoch 0 loss 1.3723556995391846\n",
            "epoch 0 loss 1.372306227684021\n",
            "epoch 0 loss 1.3722572326660156\n",
            "epoch 0 loss 1.3722054958343506\n",
            "epoch 0 loss 1.3721551895141602\n",
            "epoch 0 loss 1.3721076250076294\n",
            "epoch 0 loss 1.3720604181289673\n",
            "epoch 0 loss 1.3720099925994873\n",
            "epoch 0 loss 1.3719602823257446\n",
            "epoch 0 loss 1.3719139099121094\n",
            "epoch 0 loss 1.37186598777771\n",
            "epoch 0 loss 1.3718183040618896\n",
            "epoch 0 loss 1.3717715740203857\n",
            "epoch 0 loss 1.3717243671417236\n",
            "epoch 0 loss 1.3716785907745361\n",
            "epoch 0 loss 1.3716299533843994\n",
            "epoch 0 loss 1.3715845346450806\n",
            "epoch 0 loss 1.3715406656265259\n",
            "epoch 0 loss 1.3714956045150757\n",
            "epoch 0 loss 1.3714478015899658\n",
            "epoch 0 loss 1.3714035749435425\n",
            "epoch 0 loss 1.3713598251342773\n",
            "epoch 0 loss 1.3713159561157227\n",
            "epoch 0 loss 1.3712714910507202\n",
            "epoch 0 loss 1.371225357055664\n",
            "epoch 0 loss 1.3711837530136108\n",
            "epoch 0 loss 1.3711414337158203\n",
            "epoch 0 loss 1.371097207069397\n",
            "epoch 0 loss 1.3710546493530273\n",
            "epoch 0 loss 1.3710132837295532\n",
            "epoch 0 loss 1.3709704875946045\n",
            "epoch 0 loss 1.370928406715393\n",
            "epoch 0 loss 1.3708858489990234\n",
            "epoch 0 loss 1.3708467483520508\n",
            "epoch 0 loss 1.3708044290542603\n",
            "epoch 0 loss 1.3707621097564697\n",
            "epoch 0 loss 1.370722770690918\n",
            "epoch 0 loss 1.3706830739974976\n",
            "epoch 0 loss 1.3706433773040771\n",
            "epoch 0 loss 1.3706012964248657\n",
            "epoch 0 loss 1.3705602884292603\n",
            "epoch 0 loss 1.3705224990844727\n",
            "epoch 0 loss 1.3704850673675537\n",
            "epoch 0 loss 1.3704465627670288\n",
            "epoch 0 loss 1.3704054355621338\n",
            "epoch 0 loss 1.370365858078003\n",
            "epoch 0 loss 1.370328664779663\n",
            "epoch 0 loss 1.370293378829956\n",
            "epoch 0 loss 1.370255470275879\n",
            "epoch 0 loss 1.3702164888381958\n",
            "epoch 0 loss 1.3701778650283813\n",
            "epoch 0 loss 1.370140790939331\n",
            "epoch 0 loss 1.3701051473617554\n",
            "epoch 0 loss 1.370068907737732\n",
            "epoch 0 loss 1.3700321912765503\n",
            "epoch 0 loss 1.3699945211410522\n",
            "epoch 0 loss 1.3699591159820557\n",
            "epoch 0 loss 1.369924783706665\n",
            "epoch 0 loss 1.369889736175537\n",
            "epoch 0 loss 1.3698526620864868\n",
            "epoch 0 loss 1.3698164224624634\n",
            "epoch 0 loss 1.3697822093963623\n",
            "epoch 0 loss 1.3697490692138672\n",
            "epoch 0 loss 1.3697139024734497\n",
            "epoch 0 loss 1.3696788549423218\n",
            "epoch 0 loss 1.3696444034576416\n",
            "epoch 0 loss 1.3696115016937256\n",
            "epoch 0 loss 1.3695785999298096\n",
            "epoch 0 loss 1.3695447444915771\n",
            "epoch 0 loss 1.3695106506347656\n",
            "epoch 0 loss 1.3694778680801392\n",
            "epoch 0 loss 1.369445562362671\n",
            "epoch 0 loss 1.3694127798080444\n",
            "epoch 0 loss 1.3693795204162598\n",
            "epoch 0 loss 1.3693482875823975\n",
            "epoch 0 loss 1.3693158626556396\n",
            "epoch 0 loss 1.3692829608917236\n",
            "epoch 0 loss 1.3692513704299927\n",
            "epoch 0 loss 1.3692195415496826\n",
            "epoch 0 loss 1.3691898584365845\n",
            "epoch 0 loss 1.3691585063934326\n",
            "epoch 0 loss 1.3691284656524658\n",
            "epoch 0 loss 1.3690955638885498\n",
            "epoch 0 loss 1.3690640926361084\n",
            "epoch 0 loss 1.3690345287322998\n",
            "epoch 0 loss 1.3690059185028076\n",
            "epoch 0 loss 1.3689762353897095\n",
            "epoch 0 loss 1.368944525718689\n",
            "epoch 0 loss 1.3689141273498535\n",
            "epoch 0 loss 1.368884801864624\n",
            "epoch 0 loss 1.36885666847229\n",
            "epoch 0 loss 1.3688279390335083\n",
            "epoch 0 loss 1.3687978982925415\n",
            "epoch 0 loss 1.3687689304351807\n",
            "epoch 0 loss 1.3687410354614258\n",
            "epoch 0 loss 1.3687126636505127\n",
            "epoch 0 loss 1.3686844110488892\n",
            "epoch 0 loss 1.3686566352844238\n",
            "epoch 0 loss 1.3686268329620361\n",
            "epoch 0 loss 1.368599534034729\n",
            "epoch 0 loss 1.3685718774795532\n",
            "epoch 0 loss 1.3685450553894043\n",
            "epoch 0 loss 1.3685188293457031\n",
            "epoch 0 loss 1.3684899806976318\n",
            "epoch 0 loss 1.368463158607483\n",
            "epoch 0 loss 1.3684360980987549\n",
            "epoch 0 loss 1.3684098720550537\n",
            "epoch 0 loss 1.3683836460113525\n",
            "epoch 0 loss 1.3683582544326782\n",
            "epoch 0 loss 1.368330717086792\n",
            "epoch 0 loss 1.3683042526245117\n",
            "epoch 0 loss 1.3682781457901\n",
            "epoch 0 loss 1.3682529926300049\n",
            "epoch 0 loss 1.3682276010513306\n",
            "epoch 0 loss 1.368202805519104\n",
            "epoch 0 loss 1.3681761026382446\n",
            "epoch 0 loss 1.368150234222412\n",
            "epoch 0 loss 1.3681268692016602\n",
            "epoch 0 loss 1.3681023120880127\n",
            "epoch 0 loss 1.3680784702301025\n",
            "epoch 0 loss 1.3680518865585327\n",
            "epoch 0 loss 1.368027687072754\n",
            "epoch 0 loss 1.368003010749817\n",
            "epoch 0 loss 1.3679803609848022\n",
            "epoch 0 loss 1.367956519126892\n",
            "epoch 0 loss 1.3679320812225342\n",
            "epoch 0 loss 1.3679072856903076\n",
            "epoch 0 loss 1.3678842782974243\n",
            "epoch 0 loss 1.3678627014160156\n",
            "epoch 0 loss 1.367837905883789\n",
            "epoch 0 loss 1.3678137063980103\n",
            "epoch 0 loss 1.367790937423706\n",
            "epoch 0 loss 1.3677680492401123\n",
            "epoch 0 loss 1.3677465915679932\n",
            "epoch 0 loss 1.367723822593689\n",
            "epoch 0 loss 1.367701530456543\n",
            "epoch 0 loss 1.3676784038543701\n",
            "epoch 0 loss 1.367655634880066\n",
            "epoch 0 loss 1.3676350116729736\n",
            "epoch 0 loss 1.3676130771636963\n",
            "epoch 0 loss 1.3675901889801025\n",
            "epoch 0 loss 1.3675673007965088\n",
            "epoch 0 loss 1.367547869682312\n",
            "epoch 0 loss 1.3675254583358765\n",
            "epoch 0 loss 1.3675035238265991\n",
            "epoch 0 loss 1.3674830198287964\n",
            "epoch 0 loss 1.3674615621566772\n",
            "epoch 0 loss 1.3674404621124268\n",
            "epoch 0 loss 1.3674217462539673\n",
            "epoch 0 loss 1.3674001693725586\n",
            "epoch 0 loss 1.3673772811889648\n",
            "epoch 0 loss 1.3673574924468994\n",
            "epoch 0 loss 1.3673385381698608\n",
            "epoch 0 loss 1.3673181533813477\n",
            "epoch 0 loss 1.3672981262207031\n",
            "epoch 0 loss 1.3672761917114258\n",
            "epoch 0 loss 1.3672558069229126\n",
            "epoch 0 loss 1.3672384023666382\n",
            "epoch 0 loss 1.367217779159546\n",
            "epoch 0 loss 1.3671983480453491\n",
            "epoch 0 loss 1.3671777248382568\n",
            "epoch 0 loss 1.3671598434448242\n",
            "epoch 0 loss 1.367140769958496\n",
            "epoch 0 loss 1.3671207427978516\n",
            "epoch 0 loss 1.3671016693115234\n",
            "epoch 0 loss 1.3670834302902222\n",
            "epoch 0 loss 1.3670650720596313\n",
            "epoch 0 loss 1.3670461177825928\n",
            "epoch 0 loss 1.3670247793197632\n",
            "epoch 0 loss 1.3670076131820679\n",
            "epoch 0 loss 1.3669909238815308\n",
            "epoch 0 loss 1.3669730424880981\n",
            "epoch 0 loss 1.3669538497924805\n",
            "epoch 0 loss 1.3669347763061523\n",
            "epoch 0 loss 1.3669159412384033\n",
            "epoch 0 loss 1.3668997287750244\n",
            "epoch 0 loss 1.3668826818466187\n",
            "epoch 0 loss 1.3668655157089233\n",
            "epoch 0 loss 1.3668463230133057\n",
            "epoch 0 loss 1.3668286800384521\n",
            "epoch 0 loss 1.3668115139007568\n",
            "epoch 0 loss 1.366794466972351\n",
            "epoch 0 loss 1.3667783737182617\n",
            "epoch 0 loss 1.36676025390625\n",
            "epoch 0 loss 1.366744041442871\n",
            "epoch 0 loss 1.3667265176773071\n",
            "epoch 0 loss 1.3667106628417969\n",
            "epoch 0 loss 1.3666936159133911\n",
            "epoch 0 loss 1.3666759729385376\n",
            "epoch 0 loss 1.3666603565216064\n",
            "epoch 0 loss 1.3666439056396484\n",
            "epoch 0 loss 1.3666266202926636\n",
            "epoch 0 loss 1.3666105270385742\n",
            "epoch 0 loss 1.366595983505249\n",
            "epoch 0 loss 1.3665802478790283\n",
            "epoch 0 loss 1.366563081741333\n",
            "epoch 0 loss 1.3665469884872437\n",
            "epoch 0 loss 1.3665316104888916\n",
            "epoch 0 loss 1.366517424583435\n",
            "epoch 0 loss 1.366499662399292\n",
            "epoch 0 loss 1.3664839267730713\n",
            "epoch 0 loss 1.3664708137512207\n",
            "epoch 0 loss 1.366454839706421\n",
            "epoch 0 loss 1.3664393424987793\n",
            "epoch 0 loss 1.366424322128296\n",
            "epoch 0 loss 1.366408109664917\n",
            "epoch 0 loss 1.3663930892944336\n",
            "epoch 0 loss 1.3663792610168457\n",
            "epoch 0 loss 1.366365671157837\n",
            "epoch 0 loss 1.3663499355316162\n",
            "epoch 0 loss 1.3663355112075806\n",
            "epoch 0 loss 1.366320013999939\n",
            "epoch 0 loss 1.3663057088851929\n",
            "epoch 0 loss 1.3662927150726318\n",
            "epoch 0 loss 1.3662770986557007\n",
            "epoch 0 loss 1.3662617206573486\n",
            "epoch 0 loss 1.3662492036819458\n",
            "epoch 0 loss 1.366235613822937\n",
            "epoch 0 loss 1.3662211894989014\n",
            "epoch 0 loss 1.3662067651748657\n",
            "epoch 0 loss 1.3661926984786987\n",
            "epoch 0 loss 1.366179347038269\n",
            "epoch 0 loss 1.3661671876907349\n",
            "epoch 0 loss 1.366153359413147\n",
            "epoch 0 loss 1.3661385774612427\n",
            "epoch 0 loss 1.3661247491836548\n",
            "epoch 0 loss 1.3661123514175415\n",
            "epoch 0 loss 1.3660987615585327\n",
            "epoch 0 loss 1.3660852909088135\n",
            "epoch 0 loss 1.3660720586776733\n",
            "epoch 0 loss 1.3660600185394287\n",
            "epoch 0 loss 1.3660463094711304\n",
            "epoch 0 loss 1.3660328388214111\n",
            "epoch 0 loss 1.3660194873809814\n",
            "epoch 0 loss 1.3660082817077637\n",
            "epoch 0 loss 1.3659961223602295\n",
            "epoch 0 loss 1.365983009338379\n",
            "epoch 0 loss 1.3659694194793701\n",
            "epoch 0 loss 1.365957260131836\n",
            "epoch 0 loss 1.3659460544586182\n",
            "epoch 0 loss 1.3659322261810303\n",
            "epoch 0 loss 1.3659203052520752\n",
            "epoch 0 loss 1.365907907485962\n",
            "epoch 0 loss 1.365892767906189\n",
            "epoch 0 loss 1.3658698797225952\n",
            "epoch 0 loss 1.3658437728881836\n",
            "epoch 0 loss 1.3658218383789062\n",
            "epoch 0 loss 1.365806221961975\n",
            "epoch 0 loss 1.3657872676849365\n",
            "epoch 0 loss 1.3657660484313965\n",
            "epoch 0 loss 1.3657457828521729\n",
            "epoch 0 loss 1.3657280206680298\n",
            "epoch 0 loss 1.3657121658325195\n",
            "epoch 0 loss 1.3656924962997437\n",
            "epoch 0 loss 1.3656728267669678\n",
            "epoch 0 loss 1.3656569719314575\n",
            "epoch 0 loss 1.3656421899795532\n",
            "epoch 0 loss 1.3656247854232788\n",
            "epoch 0 loss 1.3656065464019775\n",
            "epoch 0 loss 1.3655903339385986\n",
            "epoch 0 loss 1.3655763864517212\n",
            "epoch 0 loss 1.3655606508255005\n",
            "epoch 0 loss 1.3655446767807007\n",
            "epoch 0 loss 1.3655283451080322\n",
            "epoch 0 loss 1.3655139207839966\n",
            "epoch 0 loss 1.3655004501342773\n",
            "epoch 0 loss 1.3654861450195312\n",
            "epoch 0 loss 1.3654701709747314\n",
            "epoch 0 loss 1.365454912185669\n",
            "epoch 0 loss 1.3654416799545288\n",
            "epoch 0 loss 1.3654272556304932\n",
            "epoch 0 loss 1.365412950515747\n",
            "epoch 0 loss 1.365399718284607\n",
            "epoch 0 loss 1.3653854131698608\n",
            "epoch 0 loss 1.3653719425201416\n",
            "epoch 0 loss 1.3653578758239746\n",
            "epoch 0 loss 1.3653466701507568\n",
            "epoch 0 loss 1.3653333187103271\n",
            "epoch 0 loss 1.3653181791305542\n",
            "epoch 0 loss 1.365304946899414\n",
            "epoch 0 loss 1.3652931451797485\n",
            "epoch 0 loss 1.3652805089950562\n",
            "epoch 0 loss 1.3652671575546265\n",
            "epoch 0 loss 1.3652544021606445\n",
            "epoch 0 loss 1.3652416467666626\n",
            "epoch 0 loss 1.365229606628418\n",
            "epoch 0 loss 1.3652164936065674\n",
            "epoch 0 loss 1.365203857421875\n",
            "epoch 0 loss 1.3651931285858154\n",
            "epoch 0 loss 1.365180253982544\n",
            "epoch 0 loss 1.3651670217514038\n",
            "epoch 0 loss 1.3651552200317383\n",
            "epoch 0 loss 1.3651444911956787\n",
            "epoch 0 loss 1.3651314973831177\n",
            "epoch 0 loss 1.3651195764541626\n",
            "epoch 0 loss 1.3651082515716553\n",
            "epoch 0 loss 1.3650968074798584\n",
            "epoch 0 loss 1.3650833368301392\n",
            "epoch 0 loss 1.365072250366211\n",
            "epoch 0 loss 1.3650604486465454\n",
            "epoch 0 loss 1.3650503158569336\n",
            "epoch 0 loss 1.3650373220443726\n",
            "epoch 0 loss 1.3650264739990234\n",
            "epoch 0 loss 1.365014672279358\n",
            "epoch 0 loss 1.3650047779083252\n",
            "epoch 0 loss 1.364992380142212\n",
            "epoch 0 loss 1.3649810552597046\n",
            "epoch 0 loss 1.3649711608886719\n",
            "epoch 0 loss 1.364959716796875\n",
            "epoch 0 loss 1.3649489879608154\n",
            "epoch 0 loss 1.3649375438690186\n",
            "epoch 0 loss 1.3649262189865112\n",
            "epoch 0 loss 1.3649154901504517\n",
            "epoch 0 loss 1.3649060726165771\n",
            "epoch 0 loss 1.3648958206176758\n",
            "epoch 0 loss 1.3648841381072998\n",
            "epoch 0 loss 1.3648735284805298\n",
            "epoch 0 loss 1.3648626804351807\n",
            "epoch 0 loss 1.3648529052734375\n",
            "epoch 0 loss 1.3648438453674316\n",
            "epoch 0 loss 1.3648322820663452\n",
            "epoch 0 loss 1.3648204803466797\n",
            "epoch 0 loss 1.3648115396499634\n",
            "epoch 0 loss 1.3648033142089844\n",
            "epoch 0 loss 1.3647912740707397\n",
            "epoch 0 loss 1.3647797107696533\n",
            "epoch 0 loss 1.364771842956543\n",
            "epoch 0 loss 1.3647620677947998\n",
            "epoch 0 loss 1.3647527694702148\n",
            "epoch 0 loss 1.3647408485412598\n",
            "epoch 0 loss 1.364731788635254\n",
            "epoch 0 loss 1.3647223711013794\n",
            "epoch 0 loss 1.364713430404663\n",
            "epoch 0 loss 1.3647030591964722\n",
            "epoch 0 loss 1.3646924495697021\n",
            "epoch 0 loss 1.3646841049194336\n",
            "epoch 0 loss 1.3646749258041382\n",
            "epoch 0 loss 1.3646650314331055\n",
            "epoch 0 loss 1.3646551370620728\n",
            "epoch 0 loss 1.3646471500396729\n",
            "epoch 0 loss 1.3646374940872192\n",
            "epoch 0 loss 1.3646273612976074\n",
            "epoch 0 loss 1.3646180629730225\n",
            "epoch 0 loss 1.3646095991134644\n",
            "epoch 0 loss 1.3646018505096436\n",
            "epoch 0 loss 1.364591360092163\n",
            "epoch 0 loss 1.3645809888839722\n",
            "epoch 0 loss 1.36457359790802\n",
            "epoch 0 loss 1.3645647764205933\n",
            "epoch 0 loss 1.3645561933517456\n",
            "epoch 0 loss 1.364547848701477\n",
            "epoch 0 loss 1.3645368814468384\n",
            "epoch 0 loss 1.3645293712615967\n",
            "epoch 0 loss 1.3645213842391968\n",
            "epoch 0 loss 1.3645111322402954\n",
            "epoch 0 loss 1.3645023107528687\n",
            "epoch 0 loss 1.3644951581954956\n",
            "epoch 0 loss 1.3644872903823853\n",
            "epoch 0 loss 1.364477515220642\n",
            "epoch 0 loss 1.364467978477478\n",
            "epoch 0 loss 1.3644596338272095\n",
            "epoch 0 loss 1.3644520044326782\n",
            "epoch 0 loss 1.364445686340332\n",
            "epoch 0 loss 1.3644357919692993\n",
            "epoch 0 loss 1.3644263744354248\n",
            "epoch 0 loss 1.3644193410873413\n",
            "epoch 0 loss 1.3644113540649414\n",
            "epoch 0 loss 1.3644033670425415\n",
            "epoch 0 loss 1.3643956184387207\n",
            "epoch 0 loss 1.364386796951294\n",
            "epoch 0 loss 1.3643805980682373\n",
            "epoch 0 loss 1.3643712997436523\n",
            "epoch 0 loss 1.3643624782562256\n",
            "epoch 0 loss 1.3643550872802734\n",
            "epoch 0 loss 1.3643500804901123\n",
            "epoch 0 loss 1.364341378211975\n",
            "epoch 0 loss 1.364331603050232\n",
            "epoch 0 loss 1.364324927330017\n",
            "epoch 0 loss 1.3643176555633545\n",
            "epoch 0 loss 1.3643089532852173\n",
            "epoch 0 loss 1.364302396774292\n",
            "epoch 0 loss 1.3642957210540771\n",
            "epoch 0 loss 1.3642867803573608\n",
            "epoch 0 loss 1.364279866218567\n",
            "epoch 0 loss 1.364273190498352\n",
            "epoch 0 loss 1.3642637729644775\n",
            "epoch 0 loss 1.3642566204071045\n",
            "epoch 0 loss 1.3642522096633911\n",
            "epoch 0 loss 1.3642433881759644\n",
            "epoch 0 loss 1.3642346858978271\n",
            "epoch 0 loss 1.3642284870147705\n",
            "epoch 0 loss 1.3642222881317139\n",
            "epoch 0 loss 1.3642146587371826\n",
            "epoch 0 loss 1.3642075061798096\n",
            "epoch 0 loss 1.3642008304595947\n",
            "epoch 0 loss 1.3641932010650635\n",
            "epoch 0 loss 1.364186406135559\n",
            "epoch 0 loss 1.3641802072525024\n",
            "epoch 0 loss 1.364172101020813\n",
            "epoch 0 loss 1.364166021347046\n",
            "epoch 0 loss 1.3641585111618042\n",
            "epoch 0 loss 1.3641505241394043\n",
            "epoch 0 loss 1.3641467094421387\n",
            "epoch 0 loss 1.3641395568847656\n",
            "epoch 0 loss 1.3641313314437866\n",
            "epoch 0 loss 1.3641250133514404\n",
            "epoch 0 loss 1.3641194105148315\n",
            "epoch 0 loss 1.3641122579574585\n",
            "epoch 0 loss 1.36410391330719\n",
            "epoch 0 loss 1.3640989065170288\n",
            "epoch 0 loss 1.3640947341918945\n",
            "epoch 0 loss 1.3640857934951782\n",
            "epoch 0 loss 1.3640782833099365\n",
            "epoch 0 loss 1.364073395729065\n",
            "epoch 0 loss 1.3640680313110352\n",
            "epoch 0 loss 1.3640596866607666\n",
            "epoch 0 loss 1.3640525341033936\n",
            "epoch 0 loss 1.3640496730804443\n",
            "epoch 0 loss 1.3640421628952026\n",
            "epoch 0 loss 1.3640347719192505\n",
            "epoch 0 loss 1.3640286922454834\n",
            "epoch 0 loss 1.3640239238739014\n",
            "epoch 0 loss 1.364018201828003\n",
            "epoch 0 loss 1.364010214805603\n",
            "epoch 0 loss 1.364004373550415\n",
            "epoch 0 loss 1.3640003204345703\n",
            "epoch 0 loss 1.3639943599700928\n",
            "epoch 0 loss 1.363986611366272\n",
            "epoch 0 loss 1.3639812469482422\n",
            "epoch 0 loss 1.3639756441116333\n",
            "epoch 0 loss 1.3639694452285767\n",
            "epoch 0 loss 1.3639633655548096\n",
            "epoch 0 loss 1.3639572858810425\n",
            "epoch 0 loss 1.3639533519744873\n",
            "epoch 0 loss 1.3639471530914307\n",
            "epoch 0 loss 1.3639408349990845\n",
            "epoch 0 loss 1.3639360666275024\n",
            "epoch 0 loss 1.3639297485351562\n",
            "epoch 0 loss 1.36392343044281\n",
            "epoch 0 loss 1.363918662071228\n",
            "epoch 0 loss 1.36391282081604\n",
            "epoch 0 loss 1.363905906677246\n",
            "epoch 0 loss 1.3639007806777954\n",
            "epoch 0 loss 1.363897681236267\n",
            "epoch 0 loss 1.3638919591903687\n",
            "epoch 0 loss 1.3638836145401\n",
            "epoch 0 loss 1.363878846168518\n",
            "epoch 0 loss 1.3638755083084106\n",
            "epoch 0 loss 1.3638705015182495\n",
            "epoch 0 loss 1.3638639450073242\n",
            "epoch 0 loss 1.363856554031372\n",
            "epoch 0 loss 1.3638522624969482\n",
            "epoch 0 loss 1.3638499975204468\n",
            "epoch 0 loss 1.363843560218811\n",
            "epoch 0 loss 1.3638361692428589\n",
            "epoch 0 loss 1.363831877708435\n",
            "epoch 0 loss 1.3638273477554321\n",
            "epoch 0 loss 1.3638229370117188\n",
            "epoch 0 loss 1.363816499710083\n",
            "epoch 0 loss 1.363811731338501\n",
            "epoch 0 loss 1.3638070821762085\n",
            "epoch 0 loss 1.3638026714324951\n",
            "epoch 0 loss 1.3637980222702026\n",
            "epoch 0 loss 1.36379075050354\n",
            "epoch 0 loss 1.3637866973876953\n",
            "epoch 0 loss 1.3637837171554565\n",
            "epoch 0 loss 1.3637797832489014\n",
            "epoch 0 loss 1.3637722730636597\n",
            "epoch 0 loss 1.363766074180603\n",
            "epoch 0 loss 1.3637632131576538\n",
            "epoch 0 loss 1.3637592792510986\n",
            "epoch 0 loss 1.3637537956237793\n",
            "epoch 0 loss 1.3637473583221436\n",
            "epoch 0 loss 1.3637434244155884\n",
            "epoch 0 loss 1.36374032497406\n",
            "epoch 0 loss 1.3637361526489258\n",
            "epoch 0 loss 1.3637292385101318\n",
            "epoch 0 loss 1.3637235164642334\n",
            "epoch 0 loss 1.3637205362319946\n"
          ]
        }
      ]
    },
    {
      "cell_type": "code",
      "source": [
        "torch.mean(torch.square(model(X_torch)-y_torch))"
      ],
      "metadata": {
        "colab": {
          "base_uri": "https://localhost:8080/"
        },
        "id": "WaQ81S32r_L1",
        "outputId": "5e2f8054-411c-45ca-b7ae-3d72f05b8fc4"
      },
      "execution_count": 134,
      "outputs": [
        {
          "output_type": "execute_result",
          "data": {
            "text/plain": [
              "tensor(12.1423, grad_fn=<MeanBackward0>)"
            ]
          },
          "metadata": {},
          "execution_count": 134
        }
      ]
    },
    {
      "cell_type": "code",
      "source": [
        "from torch.utils.data import Dataset,DataLoader"
      ],
      "metadata": {
        "id": "WdcR-jpTsPDD"
      },
      "execution_count": 135,
      "outputs": []
    },
    {
      "cell_type": "code",
      "source": [
        "class LinearDataset(Dataset):\n",
        "  def __init__(self,x,y):\n",
        "    self.x=x\n",
        "    self.y=y\n",
        "  def __getitem__(self,index):\n",
        "    return self.x[index],self.y[index]\n",
        "  def __len__(self):\n",
        "    return len(self.x)"
      ],
      "metadata": {
        "id": "-IB3J-d3sspg"
      },
      "execution_count": 136,
      "outputs": []
    },
    {
      "cell_type": "code",
      "source": [
        "train_loader=DataLoader(LinearDataset(X_torch,y_torch),batch_size=10,shuffle=True)"
      ],
      "metadata": {
        "id": "UjxzLqVrs2of"
      },
      "execution_count": 137,
      "outputs": []
    },
    {
      "cell_type": "code",
      "source": [
        "for i in range(num_epochs):\n",
        "  for j,(X,y) in enumerate(train_loader):\n",
        "    y_pred=model(X)\n",
        "    optimizer.zero_grad()\n",
        "    y_pred=model(X)\n",
        "    l=loss(y_pred,y)\n",
        "    l.backward()\n",
        "    optimizer.step()\n",
        "    losses.append(l.item())\n",
        "    slope.append(model.linear.weight.item())\n",
        "    bias.append(model.linear.bias.item())\n",
        "    if i%100==0:\n",
        "      print(f'epoch {i} loss {l.item()}')"
      ],
      "metadata": {
        "colab": {
          "base_uri": "https://localhost:8080/"
        },
        "id": "BDjlYHDgtL6h",
        "outputId": "266a4ba3-5bf7-4382-a044-0fa6d4b87ca9"
      },
      "execution_count": 138,
      "outputs": [
        {
          "output_type": "stream",
          "name": "stdout",
          "text": [
            "epoch 0 loss 3.0993380546569824\n",
            "epoch 0 loss 1.4532361030578613\n",
            "epoch 0 loss 1.7258224487304688\n",
            "epoch 0 loss 2.6660077571868896\n",
            "epoch 100 loss 1.9398788213729858\n",
            "epoch 100 loss 2.9154162406921387\n",
            "epoch 100 loss 2.0684261322021484\n",
            "epoch 100 loss 1.9751960039138794\n",
            "epoch 200 loss 1.5722436904907227\n",
            "epoch 200 loss 3.2768921852111816\n",
            "epoch 200 loss 1.663443922996521\n",
            "epoch 200 loss 2.394299268722534\n",
            "epoch 300 loss 1.5656063556671143\n",
            "epoch 300 loss 3.3440558910369873\n",
            "epoch 300 loss 1.6359179019927979\n",
            "epoch 300 loss 3.5410337448120117\n",
            "epoch 400 loss 1.3707077503204346\n",
            "epoch 400 loss 3.3686039447784424\n",
            "epoch 400 loss 2.553953170776367\n",
            "epoch 400 loss 0.6139383912086487\n",
            "epoch 500 loss 1.7958977222442627\n",
            "epoch 500 loss 2.995265483856201\n",
            "epoch 500 loss 2.7160847187042236\n",
            "epoch 500 loss 0.7153454422950745\n",
            "epoch 600 loss 1.803031325340271\n",
            "epoch 600 loss 2.2022929191589355\n",
            "epoch 600 loss 3.0001378059387207\n",
            "epoch 600 loss 2.1143860816955566\n",
            "epoch 700 loss 2.2117087841033936\n",
            "epoch 700 loss 2.768484592437744\n",
            "epoch 700 loss 1.7174335718154907\n",
            "epoch 700 loss 5.177178859710693\n",
            "epoch 800 loss 2.3987369537353516\n",
            "epoch 800 loss 2.9284985065460205\n",
            "epoch 800 loss 1.7018543481826782\n",
            "epoch 800 loss 2.91843581199646\n",
            "epoch 900 loss 2.841352939605713\n",
            "epoch 900 loss 1.5366100072860718\n",
            "epoch 900 loss 2.359734058380127\n",
            "epoch 900 loss 5.273394584655762\n"
          ]
        }
      ]
    },
    {
      "cell_type": "code",
      "source": [
        "torch.save(model.state_dict(),'model.pth')"
      ],
      "metadata": {
        "id": "ix6Bq7ARugnq"
      },
      "execution_count": 139,
      "outputs": []
    },
    {
      "cell_type": "code",
      "source": [
        "model.load_state_dict(\n",
        "  torch.load('model.pth')\n",
        ")\n",
        "\n"
      ],
      "metadata": {
        "colab": {
          "base_uri": "https://localhost:8080/"
        },
        "id": "zLYz0b5Auq0O",
        "outputId": "9c88cd66-9ea2-4db7-deb4-6b254ea9192c"
      },
      "execution_count": 140,
      "outputs": [
        {
          "output_type": "stream",
          "name": "stderr",
          "text": [
            "<ipython-input-140-0572d98182bc>:2: FutureWarning: You are using `torch.load` with `weights_only=False` (the current default value), which uses the default pickle module implicitly. It is possible to construct malicious pickle data which will execute arbitrary code during unpickling (See https://github.com/pytorch/pytorch/blob/main/SECURITY.md#untrusted-models for more details). In a future release, the default value for `weights_only` will be flipped to `True`. This limits the functions that could be executed during unpickling. Arbitrary objects will no longer be allowed to be loaded via this mode unless they are explicitly allowlisted by the user via `torch.serialization.add_safe_globals`. We recommend you start setting `weights_only=True` for any use case where you don't have full control of the loaded file. Please open an issue on GitHub for any issues related to this experimental feature.\n",
            "  torch.load('model.pth')\n"
          ]
        },
        {
          "output_type": "execute_result",
          "data": {
            "text/plain": [
              "<All keys matched successfully>"
            ]
          },
          "metadata": {},
          "execution_count": 140
        }
      ]
    },
    {
      "cell_type": "code",
      "source": [
        "!pip install skorch"
      ],
      "metadata": {
        "colab": {
          "base_uri": "https://localhost:8080/"
        },
        "id": "uxfrw08CwhzT",
        "outputId": "0541f9b3-3482-4a98-ca1f-cc0d743596ed"
      },
      "execution_count": 142,
      "outputs": [
        {
          "output_type": "stream",
          "name": "stdout",
          "text": [
            "Collecting skorch\n",
            "  Downloading skorch-1.0.0-py3-none-any.whl.metadata (11 kB)\n",
            "Requirement already satisfied: numpy>=1.13.3 in /usr/local/lib/python3.10/dist-packages (from skorch) (1.26.4)\n",
            "Requirement already satisfied: scikit-learn>=0.22.0 in /usr/local/lib/python3.10/dist-packages (from skorch) (1.5.2)\n",
            "Requirement already satisfied: scipy>=1.1.0 in /usr/local/lib/python3.10/dist-packages (from skorch) (1.13.1)\n",
            "Requirement already satisfied: tabulate>=0.7.7 in /usr/local/lib/python3.10/dist-packages (from skorch) (0.9.0)\n",
            "Requirement already satisfied: tqdm>=4.14.0 in /usr/local/lib/python3.10/dist-packages (from skorch) (4.66.5)\n",
            "Requirement already satisfied: joblib>=1.2.0 in /usr/local/lib/python3.10/dist-packages (from scikit-learn>=0.22.0->skorch) (1.4.2)\n",
            "Requirement already satisfied: threadpoolctl>=3.1.0 in /usr/local/lib/python3.10/dist-packages (from scikit-learn>=0.22.0->skorch) (3.5.0)\n",
            "Downloading skorch-1.0.0-py3-none-any.whl (239 kB)\n",
            "\u001b[2K   \u001b[90m━━━━━━━━━━━━━━━━━━━━━━━━━━━━━━━━━━━━━━━━\u001b[0m \u001b[32m239.4/239.4 kB\u001b[0m \u001b[31m4.6 MB/s\u001b[0m eta \u001b[36m0:00:00\u001b[0m\n",
            "\u001b[?25hInstalling collected packages: skorch\n",
            "Successfully installed skorch-1.0.0\n"
          ]
        }
      ]
    },
    {
      "cell_type": "code",
      "source": [
        "from skorch import NeuralNetRegressor\n",
        "from sklearn.model_selection import GridSearchCV"
      ],
      "metadata": {
        "id": "UsUFMztixtn4"
      },
      "execution_count": 153,
      "outputs": []
    },
    {
      "cell_type": "code",
      "source": [
        "net = NeuralNetRegressor(\n",
        "    LinearRegresionTorch(1,1),\n",
        "    max_epochs=10,\n",
        "    lr=0.1,\n",
        "    # Shuffle training data on each epoch\n",
        "    iterator_train__shuffle=True,\n",
        ")\n",
        "net.set_params(train_split=False, verbose=0)\n",
        "params = {\n",
        "    'lr': [0.02, 0.05, 0.08],\n",
        "    'max_epochs': [10, 200, 500],\n",
        "}\n",
        "gs = GridSearchCV(net, params, refit=False, cv=3, scoring='r2', verbose=2)\n",
        "\n",
        "gs.fit(X_torch, y_torch)\n",
        "print(f\"best score: {gs.best_score_:.3f}, best params: {gs.best_params_}\")"
      ],
      "metadata": {
        "colab": {
          "base_uri": "https://localhost:8080/"
        },
        "id": "Z_gCfXWrwuPb",
        "outputId": "ce636745-f396-4b8f-f218-81f98df39520"
      },
      "execution_count": 155,
      "outputs": [
        {
          "output_type": "stream",
          "name": "stdout",
          "text": [
            "Fitting 3 folds for each of 9 candidates, totalling 27 fits\n",
            "[CV] END .............................lr=0.02, max_epochs=10; total time=   0.1s\n",
            "[CV] END .............................lr=0.02, max_epochs=10; total time=   0.0s\n",
            "[CV] END .............................lr=0.02, max_epochs=10; total time=   0.1s\n",
            "[CV] END ............................lr=0.02, max_epochs=200; total time=   0.9s\n",
            "[CV] END ............................lr=0.02, max_epochs=200; total time=   0.9s\n",
            "[CV] END ............................lr=0.02, max_epochs=200; total time=   0.7s\n",
            "[CV] END ............................lr=0.02, max_epochs=500; total time=   1.3s\n",
            "[CV] END ............................lr=0.02, max_epochs=500; total time=   1.3s\n",
            "[CV] END ............................lr=0.02, max_epochs=500; total time=   1.7s\n",
            "[CV] END .............................lr=0.05, max_epochs=10; total time=   0.0s\n",
            "[CV] END .............................lr=0.05, max_epochs=10; total time=   0.0s\n",
            "[CV] END .............................lr=0.05, max_epochs=10; total time=   0.0s\n",
            "[CV] END ............................lr=0.05, max_epochs=200; total time=   0.7s\n",
            "[CV] END ............................lr=0.05, max_epochs=200; total time=   0.7s\n",
            "[CV] END ............................lr=0.05, max_epochs=200; total time=   0.5s\n",
            "[CV] END ............................lr=0.05, max_epochs=500; total time=   1.3s\n",
            "[CV] END ............................lr=0.05, max_epochs=500; total time=   1.3s\n",
            "[CV] END ............................lr=0.05, max_epochs=500; total time=   1.3s\n",
            "[CV] END .............................lr=0.08, max_epochs=10; total time=   0.0s\n",
            "[CV] END .............................lr=0.08, max_epochs=10; total time=   0.0s\n",
            "[CV] END .............................lr=0.08, max_epochs=10; total time=   0.0s\n",
            "[CV] END ............................lr=0.08, max_epochs=200; total time=   0.5s\n",
            "[CV] END ............................lr=0.08, max_epochs=200; total time=   0.5s\n",
            "[CV] END ............................lr=0.08, max_epochs=200; total time=   0.5s\n",
            "[CV] END ............................lr=0.08, max_epochs=500; total time=   1.2s\n",
            "[CV] END ............................lr=0.08, max_epochs=500; total time=   1.2s\n",
            "[CV] END ............................lr=0.08, max_epochs=500; total time=   1.2s\n",
            "best score: 0.588, best params: {'lr': 0.05, 'max_epochs': 500}\n"
          ]
        },
        {
          "output_type": "stream",
          "name": "stderr",
          "text": [
            "/usr/local/lib/python3.10/dist-packages/sklearn/metrics/_regression.py:1220: RuntimeWarning: overflow encountered in square\n",
            "  numerator = xp.sum(weight * (y_true - y_pred) ** 2, axis=0)\n",
            "/usr/local/lib/python3.10/dist-packages/sklearn/model_selection/_search.py:1103: UserWarning: One or more of the test scores are non-finite: [-2.64679964e+00 -4.31193829e-01  3.69344175e-01 -2.34862630e+00\n",
            "  3.70106081e-01  5.87583681e-01 -5.93821179e+01 -4.02751637e+19\n",
            "            -inf]\n",
            "  warnings.warn(\n",
            "/usr/local/lib/python3.10/dist-packages/sklearn/model_selection/_search.py:1114: RuntimeWarning: invalid value encountered in subtract\n",
            "  (array - array_means[:, np.newaxis]) ** 2, axis=1, weights=weights\n"
          ]
        }
      ]
    },
    {
      "cell_type": "code",
      "source": [],
      "metadata": {
        "id": "_lFTXA8txzbe"
      },
      "execution_count": null,
      "outputs": []
    }
  ]
}