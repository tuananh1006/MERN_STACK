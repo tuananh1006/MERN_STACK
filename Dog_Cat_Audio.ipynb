{
  "nbformat": 4,
  "nbformat_minor": 0,
  "metadata": {
    "colab": {
      "provenance": [],
      "collapsed_sections": [
        "B1IVH4j-KsfK"
      ],
      "authorship_tag": "ABX9TyNVGsDCk652FKR5U7AudCtv",
      "include_colab_link": true
    },
    "kernelspec": {
      "name": "python3",
      "display_name": "Python 3"
    },
    "language_info": {
      "name": "python"
    }
  },
  "cells": [
    {
      "cell_type": "markdown",
      "metadata": {
        "id": "view-in-github",
        "colab_type": "text"
      },
      "source": [
        "<a href=\"https://colab.research.google.com/github/tuananh1006/Torch_Practice/blob/main/Dog_Cat_Audio.ipynb\" target=\"_parent\"><img src=\"https://colab.research.google.com/assets/colab-badge.svg\" alt=\"Open In Colab\"/></a>"
      ]
    },
    {
      "cell_type": "code",
      "execution_count": null,
      "metadata": {
        "colab": {
          "base_uri": "https://localhost:8080/"
        },
        "id": "VzQR7xn7CLkR",
        "outputId": "60dad018-b746-4f26-8b46-3facb27ac46f"
      },
      "outputs": [
        {
          "output_type": "stream",
          "name": "stdout",
          "text": [
            "Dataset URL: https://www.kaggle.com/datasets/mmoreaux/audio-cats-and-dogs\n",
            "License(s): CC-BY-SA-3.0\n",
            "Downloading audio-cats-and-dogs.zip to /content\n",
            " 92% 89.0M/97.0M [00:01<00:00, 61.6MB/s]\n",
            "100% 97.0M/97.0M [00:01<00:00, 60.8MB/s]\n"
          ]
        }
      ],
      "source": [
        "!kaggle datasets download -d mmoreaux/audio-cats-and-dogs"
      ]
    },
    {
      "cell_type": "code",
      "source": [
        "!unzip audio-cats-and-dogs.zip"
      ],
      "metadata": {
        "colab": {
          "base_uri": "https://localhost:8080/"
        },
        "id": "lLSk6OxoCPuL",
        "outputId": "90012a79-a3dd-4a41-cfbf-01f5cdafd819"
      },
      "execution_count": null,
      "outputs": [
        {
          "output_type": "stream",
          "name": "stdout",
          "text": [
            "Archive:  audio-cats-and-dogs.zip\n",
            "  inflating: cats_dogs/cat_1.wav     \n",
            "  inflating: cats_dogs/cat_10.wav    \n",
            "  inflating: cats_dogs/cat_100.wav   \n",
            "  inflating: cats_dogs/cat_101.wav   \n",
            "  inflating: cats_dogs/cat_102.wav   \n",
            "  inflating: cats_dogs/cat_103.wav   \n",
            "  inflating: cats_dogs/cat_105.wav   \n",
            "  inflating: cats_dogs/cat_106.wav   \n",
            "  inflating: cats_dogs/cat_107.wav   \n",
            "  inflating: cats_dogs/cat_108.wav   \n",
            "  inflating: cats_dogs/cat_109.wav   \n",
            "  inflating: cats_dogs/cat_11.wav    \n",
            "  inflating: cats_dogs/cat_110.wav   \n",
            "  inflating: cats_dogs/cat_112.wav   \n",
            "  inflating: cats_dogs/cat_113.wav   \n",
            "  inflating: cats_dogs/cat_114.wav   \n",
            "  inflating: cats_dogs/cat_115.wav   \n",
            "  inflating: cats_dogs/cat_116.wav   \n",
            "  inflating: cats_dogs/cat_117.wav   \n",
            "  inflating: cats_dogs/cat_118.wav   \n",
            "  inflating: cats_dogs/cat_119.wav   \n",
            "  inflating: cats_dogs/cat_12.wav    \n",
            "  inflating: cats_dogs/cat_120.wav   \n",
            "  inflating: cats_dogs/cat_121.wav   \n",
            "  inflating: cats_dogs/cat_122.wav   \n",
            "  inflating: cats_dogs/cat_123.wav   \n",
            "  inflating: cats_dogs/cat_124.wav   \n",
            "  inflating: cats_dogs/cat_125.wav   \n",
            "  inflating: cats_dogs/cat_126.wav   \n",
            "  inflating: cats_dogs/cat_127.wav   \n",
            "  inflating: cats_dogs/cat_128.wav   \n",
            "  inflating: cats_dogs/cat_129.wav   \n",
            "  inflating: cats_dogs/cat_13.wav    \n",
            "  inflating: cats_dogs/cat_130.wav   \n",
            "  inflating: cats_dogs/cat_131.wav   \n",
            "  inflating: cats_dogs/cat_132.wav   \n",
            "  inflating: cats_dogs/cat_133.wav   \n",
            "  inflating: cats_dogs/cat_134.wav   \n",
            "  inflating: cats_dogs/cat_135.wav   \n",
            "  inflating: cats_dogs/cat_136.wav   \n",
            "  inflating: cats_dogs/cat_137.wav   \n",
            "  inflating: cats_dogs/cat_138.wav   \n",
            "  inflating: cats_dogs/cat_139.wav   \n",
            "  inflating: cats_dogs/cat_14.wav    \n",
            "  inflating: cats_dogs/cat_140.wav   \n",
            "  inflating: cats_dogs/cat_141.wav   \n",
            "  inflating: cats_dogs/cat_142.wav   \n",
            "  inflating: cats_dogs/cat_143.wav   \n",
            "  inflating: cats_dogs/cat_144.wav   \n",
            "  inflating: cats_dogs/cat_146.wav   \n",
            "  inflating: cats_dogs/cat_147.wav   \n",
            "  inflating: cats_dogs/cat_148.wav   \n",
            "  inflating: cats_dogs/cat_149.wav   \n",
            "  inflating: cats_dogs/cat_15.wav    \n",
            "  inflating: cats_dogs/cat_150.wav   \n",
            "  inflating: cats_dogs/cat_151.wav   \n",
            "  inflating: cats_dogs/cat_152.wav   \n",
            "  inflating: cats_dogs/cat_153.wav   \n",
            "  inflating: cats_dogs/cat_154.wav   \n",
            "  inflating: cats_dogs/cat_155.wav   \n",
            "  inflating: cats_dogs/cat_156.wav   \n",
            "  inflating: cats_dogs/cat_157.wav   \n",
            "  inflating: cats_dogs/cat_158.wav   \n",
            "  inflating: cats_dogs/cat_159.wav   \n",
            "  inflating: cats_dogs/cat_16.wav    \n",
            "  inflating: cats_dogs/cat_160.wav   \n",
            "  inflating: cats_dogs/cat_161.wav   \n",
            "  inflating: cats_dogs/cat_162.wav   \n",
            "  inflating: cats_dogs/cat_163.wav   \n",
            "  inflating: cats_dogs/cat_164.wav   \n",
            "  inflating: cats_dogs/cat_165.wav   \n",
            "  inflating: cats_dogs/cat_166.wav   \n",
            "  inflating: cats_dogs/cat_167.wav   \n",
            "  inflating: cats_dogs/cat_17.wav    \n",
            "  inflating: cats_dogs/cat_18.wav    \n",
            "  inflating: cats_dogs/cat_19.wav    \n",
            "  inflating: cats_dogs/cat_2.wav     \n",
            "  inflating: cats_dogs/cat_20.wav    \n",
            "  inflating: cats_dogs/cat_21.wav    \n",
            "  inflating: cats_dogs/cat_22.wav    \n",
            "  inflating: cats_dogs/cat_23.wav    \n",
            "  inflating: cats_dogs/cat_24.wav    \n",
            "  inflating: cats_dogs/cat_25.wav    \n",
            "  inflating: cats_dogs/cat_26.wav    \n",
            "  inflating: cats_dogs/cat_27.wav    \n",
            "  inflating: cats_dogs/cat_28.wav    \n",
            "  inflating: cats_dogs/cat_29.wav    \n",
            "  inflating: cats_dogs/cat_3.wav     \n",
            "  inflating: cats_dogs/cat_30.wav    \n",
            "  inflating: cats_dogs/cat_31.wav    \n",
            "  inflating: cats_dogs/cat_32.wav    \n",
            "  inflating: cats_dogs/cat_33.wav    \n",
            "  inflating: cats_dogs/cat_34.wav    \n",
            "  inflating: cats_dogs/cat_35.wav    \n",
            "  inflating: cats_dogs/cat_36.wav    \n",
            "  inflating: cats_dogs/cat_37.wav    \n",
            "  inflating: cats_dogs/cat_38.wav    \n",
            "  inflating: cats_dogs/cat_39.wav    \n",
            "  inflating: cats_dogs/cat_4.wav     \n",
            "  inflating: cats_dogs/cat_40.wav    \n",
            "  inflating: cats_dogs/cat_41.wav    \n",
            "  inflating: cats_dogs/cat_42.wav    \n",
            "  inflating: cats_dogs/cat_43.wav    \n",
            "  inflating: cats_dogs/cat_44.wav    \n",
            "  inflating: cats_dogs/cat_45.wav    \n",
            "  inflating: cats_dogs/cat_46.wav    \n",
            "  inflating: cats_dogs/cat_47.wav    \n",
            "  inflating: cats_dogs/cat_48.wav    \n",
            "  inflating: cats_dogs/cat_49.wav    \n",
            "  inflating: cats_dogs/cat_5.wav     \n",
            "  inflating: cats_dogs/cat_50.wav    \n",
            "  inflating: cats_dogs/cat_51.wav    \n",
            "  inflating: cats_dogs/cat_52.wav    \n",
            "  inflating: cats_dogs/cat_53.wav    \n",
            "  inflating: cats_dogs/cat_54.wav    \n",
            "  inflating: cats_dogs/cat_55.wav    \n",
            "  inflating: cats_dogs/cat_56.wav    \n",
            "  inflating: cats_dogs/cat_57.wav    \n",
            "  inflating: cats_dogs/cat_58.wav    \n",
            "  inflating: cats_dogs/cat_59.wav    \n",
            "  inflating: cats_dogs/cat_6.wav     \n",
            "  inflating: cats_dogs/cat_60.wav    \n",
            "  inflating: cats_dogs/cat_61.wav    \n",
            "  inflating: cats_dogs/cat_62.wav    \n",
            "  inflating: cats_dogs/cat_63.wav    \n",
            "  inflating: cats_dogs/cat_64.wav    \n",
            "  inflating: cats_dogs/cat_65.wav    \n",
            "  inflating: cats_dogs/cat_66.wav    \n",
            "  inflating: cats_dogs/cat_67.wav    \n",
            "  inflating: cats_dogs/cat_68.wav    \n",
            "  inflating: cats_dogs/cat_69.wav    \n",
            "  inflating: cats_dogs/cat_7.wav     \n",
            "  inflating: cats_dogs/cat_70.wav    \n",
            "  inflating: cats_dogs/cat_71.wav    \n",
            "  inflating: cats_dogs/cat_72.wav    \n",
            "  inflating: cats_dogs/cat_73.wav    \n",
            "  inflating: cats_dogs/cat_74.wav    \n",
            "  inflating: cats_dogs/cat_75.wav    \n",
            "  inflating: cats_dogs/cat_76.wav    \n",
            "  inflating: cats_dogs/cat_77.wav    \n",
            "  inflating: cats_dogs/cat_78.wav    \n",
            "  inflating: cats_dogs/cat_79.wav    \n",
            "  inflating: cats_dogs/cat_8.wav     \n",
            "  inflating: cats_dogs/cat_80.wav    \n",
            "  inflating: cats_dogs/cat_81.wav    \n",
            "  inflating: cats_dogs/cat_82.wav    \n",
            "  inflating: cats_dogs/cat_83.wav    \n",
            "  inflating: cats_dogs/cat_84.wav    \n",
            "  inflating: cats_dogs/cat_85.wav    \n",
            "  inflating: cats_dogs/cat_86.wav    \n",
            "  inflating: cats_dogs/cat_87.wav    \n",
            "  inflating: cats_dogs/cat_88.wav    \n",
            "  inflating: cats_dogs/cat_89.wav    \n",
            "  inflating: cats_dogs/cat_9.wav     \n",
            "  inflating: cats_dogs/cat_90.wav    \n",
            "  inflating: cats_dogs/cat_91.wav    \n",
            "  inflating: cats_dogs/cat_92.wav    \n",
            "  inflating: cats_dogs/cat_93.wav    \n",
            "  inflating: cats_dogs/cat_94.wav    \n",
            "  inflating: cats_dogs/cat_95.wav    \n",
            "  inflating: cats_dogs/cat_96.wav    \n",
            "  inflating: cats_dogs/cat_97.wav    \n",
            "  inflating: cats_dogs/cat_98.wav    \n",
            "  inflating: cats_dogs/cat_99.wav    \n",
            "  inflating: cats_dogs/dog_barking_0.wav  \n",
            "  inflating: cats_dogs/dog_barking_1.wav  \n",
            "  inflating: cats_dogs/dog_barking_10.wav  \n",
            "  inflating: cats_dogs/dog_barking_100.wav  \n",
            "  inflating: cats_dogs/dog_barking_101.wav  \n",
            "  inflating: cats_dogs/dog_barking_102.wav  \n",
            "  inflating: cats_dogs/dog_barking_103.wav  \n",
            "  inflating: cats_dogs/dog_barking_104.wav  \n",
            "  inflating: cats_dogs/dog_barking_105.wav  \n",
            "  inflating: cats_dogs/dog_barking_106.wav  \n",
            "  inflating: cats_dogs/dog_barking_107.wav  \n",
            "  inflating: cats_dogs/dog_barking_108.wav  \n",
            "  inflating: cats_dogs/dog_barking_109.wav  \n",
            "  inflating: cats_dogs/dog_barking_11.wav  \n",
            "  inflating: cats_dogs/dog_barking_110.wav  \n",
            "  inflating: cats_dogs/dog_barking_111.wav  \n",
            "  inflating: cats_dogs/dog_barking_112.wav  \n",
            "  inflating: cats_dogs/dog_barking_12.wav  \n",
            "  inflating: cats_dogs/dog_barking_13.wav  \n",
            "  inflating: cats_dogs/dog_barking_14.wav  \n",
            "  inflating: cats_dogs/dog_barking_15.wav  \n",
            "  inflating: cats_dogs/dog_barking_16.wav  \n",
            "  inflating: cats_dogs/dog_barking_17.wav  \n",
            "  inflating: cats_dogs/dog_barking_18.wav  \n",
            "  inflating: cats_dogs/dog_barking_19.wav  \n",
            "  inflating: cats_dogs/dog_barking_2.wav  \n",
            "  inflating: cats_dogs/dog_barking_20.wav  \n",
            "  inflating: cats_dogs/dog_barking_21.wav  \n",
            "  inflating: cats_dogs/dog_barking_22.wav  \n",
            "  inflating: cats_dogs/dog_barking_23.wav  \n",
            "  inflating: cats_dogs/dog_barking_24.wav  \n",
            "  inflating: cats_dogs/dog_barking_25.wav  \n",
            "  inflating: cats_dogs/dog_barking_26.wav  \n",
            "  inflating: cats_dogs/dog_barking_27.wav  \n",
            "  inflating: cats_dogs/dog_barking_28.wav  \n",
            "  inflating: cats_dogs/dog_barking_29.wav  \n",
            "  inflating: cats_dogs/dog_barking_3.wav  \n",
            "  inflating: cats_dogs/dog_barking_30.wav  \n",
            "  inflating: cats_dogs/dog_barking_31.wav  \n",
            "  inflating: cats_dogs/dog_barking_32.wav  \n",
            "  inflating: cats_dogs/dog_barking_33.wav  \n",
            "  inflating: cats_dogs/dog_barking_34.wav  \n",
            "  inflating: cats_dogs/dog_barking_35.wav  \n",
            "  inflating: cats_dogs/dog_barking_36.wav  \n",
            "  inflating: cats_dogs/dog_barking_37.wav  \n",
            "  inflating: cats_dogs/dog_barking_38.wav  \n",
            "  inflating: cats_dogs/dog_barking_39.wav  \n",
            "  inflating: cats_dogs/dog_barking_4.wav  \n",
            "  inflating: cats_dogs/dog_barking_40.wav  \n",
            "  inflating: cats_dogs/dog_barking_41.wav  \n",
            "  inflating: cats_dogs/dog_barking_42.wav  \n",
            "  inflating: cats_dogs/dog_barking_43.wav  \n",
            "  inflating: cats_dogs/dog_barking_44.wav  \n",
            "  inflating: cats_dogs/dog_barking_45.wav  \n",
            "  inflating: cats_dogs/dog_barking_46.wav  \n",
            "  inflating: cats_dogs/dog_barking_47.wav  \n",
            "  inflating: cats_dogs/dog_barking_48.wav  \n",
            "  inflating: cats_dogs/dog_barking_49.wav  \n",
            "  inflating: cats_dogs/dog_barking_5.wav  \n",
            "  inflating: cats_dogs/dog_barking_50.wav  \n",
            "  inflating: cats_dogs/dog_barking_51.wav  \n",
            "  inflating: cats_dogs/dog_barking_52.wav  \n",
            "  inflating: cats_dogs/dog_barking_53.wav  \n",
            "  inflating: cats_dogs/dog_barking_54.wav  \n",
            "  inflating: cats_dogs/dog_barking_55.wav  \n",
            "  inflating: cats_dogs/dog_barking_56.wav  \n",
            "  inflating: cats_dogs/dog_barking_57.wav  \n",
            "  inflating: cats_dogs/dog_barking_58.wav  \n",
            "  inflating: cats_dogs/dog_barking_59.wav  \n",
            "  inflating: cats_dogs/dog_barking_6.wav  \n",
            "  inflating: cats_dogs/dog_barking_60.wav  \n",
            "  inflating: cats_dogs/dog_barking_61.wav  \n",
            "  inflating: cats_dogs/dog_barking_62.wav  \n",
            "  inflating: cats_dogs/dog_barking_63.wav  \n",
            "  inflating: cats_dogs/dog_barking_64.wav  \n",
            "  inflating: cats_dogs/dog_barking_65.wav  \n",
            "  inflating: cats_dogs/dog_barking_66.wav  \n",
            "  inflating: cats_dogs/dog_barking_67.wav  \n",
            "  inflating: cats_dogs/dog_barking_68.wav  \n",
            "  inflating: cats_dogs/dog_barking_69.wav  \n",
            "  inflating: cats_dogs/dog_barking_7.wav  \n",
            "  inflating: cats_dogs/dog_barking_70.wav  \n",
            "  inflating: cats_dogs/dog_barking_71.wav  \n",
            "  inflating: cats_dogs/dog_barking_72.wav  \n",
            "  inflating: cats_dogs/dog_barking_73.wav  \n",
            "  inflating: cats_dogs/dog_barking_74.wav  \n",
            "  inflating: cats_dogs/dog_barking_75.wav  \n",
            "  inflating: cats_dogs/dog_barking_76.wav  \n",
            "  inflating: cats_dogs/dog_barking_77.wav  \n",
            "  inflating: cats_dogs/dog_barking_78.wav  \n",
            "  inflating: cats_dogs/dog_barking_79.wav  \n",
            "  inflating: cats_dogs/dog_barking_8.wav  \n",
            "  inflating: cats_dogs/dog_barking_80.wav  \n",
            "  inflating: cats_dogs/dog_barking_81.wav  \n",
            "  inflating: cats_dogs/dog_barking_82.wav  \n",
            "  inflating: cats_dogs/dog_barking_83.wav  \n",
            "  inflating: cats_dogs/dog_barking_84.wav  \n",
            "  inflating: cats_dogs/dog_barking_85.wav  \n",
            "  inflating: cats_dogs/dog_barking_86.wav  \n",
            "  inflating: cats_dogs/dog_barking_87.wav  \n",
            "  inflating: cats_dogs/dog_barking_88.wav  \n",
            "  inflating: cats_dogs/dog_barking_89.wav  \n",
            "  inflating: cats_dogs/dog_barking_9.wav  \n",
            "  inflating: cats_dogs/dog_barking_90.wav  \n",
            "  inflating: cats_dogs/dog_barking_91.wav  \n",
            "  inflating: cats_dogs/dog_barking_92.wav  \n",
            "  inflating: cats_dogs/dog_barking_93.wav  \n",
            "  inflating: cats_dogs/dog_barking_94.wav  \n",
            "  inflating: cats_dogs/dog_barking_95.wav  \n",
            "  inflating: cats_dogs/dog_barking_96.wav  \n",
            "  inflating: cats_dogs/dog_barking_97.wav  \n",
            "  inflating: cats_dogs/dog_barking_98.wav  \n",
            "  inflating: cats_dogs/dog_barking_99.wav  \n",
            "  inflating: cats_dogs/test/cats/cat_110.wav  \n",
            "  inflating: cats_dogs/test/cats/cat_112.wav  \n",
            "  inflating: cats_dogs/test/cats/cat_115.wav  \n",
            "  inflating: cats_dogs/test/cats/cat_126.wav  \n",
            "  inflating: cats_dogs/test/cats/cat_129.wav  \n",
            "  inflating: cats_dogs/test/cats/cat_130.wav  \n",
            "  inflating: cats_dogs/test/cats/cat_133.wav  \n",
            "  inflating: cats_dogs/test/cats/cat_135.wav  \n",
            "  inflating: cats_dogs/test/cats/cat_137.wav  \n",
            "  inflating: cats_dogs/test/cats/cat_14.wav  \n",
            "  inflating: cats_dogs/test/cats/cat_143.wav  \n",
            "  inflating: cats_dogs/test/cats/cat_144.wav  \n",
            "  inflating: cats_dogs/test/cats/cat_148.wav  \n",
            "  inflating: cats_dogs/test/cats/cat_152.wav  \n",
            "  inflating: cats_dogs/test/cats/cat_158.wav  \n",
            "  inflating: cats_dogs/test/cats/cat_17.wav  \n",
            "  inflating: cats_dogs/test/cats/cat_20.wav  \n",
            "  inflating: cats_dogs/test/cats/cat_24.wav  \n",
            "  inflating: cats_dogs/test/cats/cat_28.wav  \n",
            "  inflating: cats_dogs/test/cats/cat_29.wav  \n",
            "  inflating: cats_dogs/test/cats/cat_3.wav  \n",
            "  inflating: cats_dogs/test/cats/cat_36.wav  \n",
            "  inflating: cats_dogs/test/cats/cat_42.wav  \n",
            "  inflating: cats_dogs/test/cats/cat_55.wav  \n",
            "  inflating: cats_dogs/test/cats/cat_56.wav  \n",
            "  inflating: cats_dogs/test/cats/cat_57.wav  \n",
            "  inflating: cats_dogs/test/cats/cat_58.wav  \n",
            "  inflating: cats_dogs/test/cats/cat_59.wav  \n",
            "  inflating: cats_dogs/test/cats/cat_61.wav  \n",
            "  inflating: cats_dogs/test/cats/cat_66.wav  \n",
            "  inflating: cats_dogs/test/cats/cat_67.wav  \n",
            "  inflating: cats_dogs/test/cats/cat_75.wav  \n",
            "  inflating: cats_dogs/test/cats/cat_76.wav  \n",
            "  inflating: cats_dogs/test/cats/cat_79.wav  \n",
            "  inflating: cats_dogs/test/cats/cat_82.wav  \n",
            "  inflating: cats_dogs/test/cats/cat_85.wav  \n",
            "  inflating: cats_dogs/test/cats/cat_86.wav  \n",
            "  inflating: cats_dogs/test/cats/cat_88.wav  \n",
            "  inflating: cats_dogs/test/cats/cat_90.wav  \n",
            "  inflating: cats_dogs/test/test/dog_barking_112.wav  \n",
            "  inflating: cats_dogs/test/test/dog_barking_12.wav  \n",
            "  inflating: cats_dogs/test/test/dog_barking_15.wav  \n",
            "  inflating: cats_dogs/test/test/dog_barking_19.wav  \n",
            "  inflating: cats_dogs/test/test/dog_barking_24.wav  \n",
            "  inflating: cats_dogs/test/test/dog_barking_3.wav  \n",
            "  inflating: cats_dogs/test/test/dog_barking_34.wav  \n",
            "  inflating: cats_dogs/test/test/dog_barking_43.wav  \n",
            "  inflating: cats_dogs/test/test/dog_barking_44.wav  \n",
            "  inflating: cats_dogs/test/test/dog_barking_45.wav  \n",
            "  inflating: cats_dogs/test/test/dog_barking_46.wav  \n",
            "  inflating: cats_dogs/test/test/dog_barking_48.wav  \n",
            "  inflating: cats_dogs/test/test/dog_barking_49.wav  \n",
            "  inflating: cats_dogs/test/test/dog_barking_54.wav  \n",
            "  inflating: cats_dogs/test/test/dog_barking_59.wav  \n",
            "  inflating: cats_dogs/test/test/dog_barking_62.wav  \n",
            "  inflating: cats_dogs/test/test/dog_barking_64.wav  \n",
            "  inflating: cats_dogs/test/test/dog_barking_66.wav  \n",
            "  inflating: cats_dogs/test/test/dog_barking_7.wav  \n",
            "  inflating: cats_dogs/test/test/dog_barking_73.wav  \n",
            "  inflating: cats_dogs/test/test/dog_barking_78.wav  \n",
            "  inflating: cats_dogs/test/test/dog_barking_8.wav  \n",
            "  inflating: cats_dogs/test/test/dog_barking_82.wav  \n",
            "  inflating: cats_dogs/test/test/dog_barking_89.wav  \n",
            "  inflating: cats_dogs/test/test/dog_barking_9.wav  \n",
            "  inflating: cats_dogs/test/test/dog_barking_90.wav  \n",
            "  inflating: cats_dogs/test/test/dog_barking_91.wav  \n",
            "  inflating: cats_dogs/test/test/dog_barking_99.wav  \n",
            "  inflating: cats_dogs/train/cat/cat_1.wav  \n",
            "  inflating: cats_dogs/train/cat/cat_10.wav  \n",
            "  inflating: cats_dogs/train/cat/cat_100.wav  \n",
            "  inflating: cats_dogs/train/cat/cat_101.wav  \n",
            "  inflating: cats_dogs/train/cat/cat_102.wav  \n",
            "  inflating: cats_dogs/train/cat/cat_103.wav  \n",
            "  inflating: cats_dogs/train/cat/cat_105.wav  \n",
            "  inflating: cats_dogs/train/cat/cat_106.wav  \n",
            "  inflating: cats_dogs/train/cat/cat_107.wav  \n",
            "  inflating: cats_dogs/train/cat/cat_108.wav  \n",
            "  inflating: cats_dogs/train/cat/cat_109.wav  \n",
            "  inflating: cats_dogs/train/cat/cat_11.wav  \n",
            "  inflating: cats_dogs/train/cat/cat_113.wav  \n",
            "  inflating: cats_dogs/train/cat/cat_114.wav  \n",
            "  inflating: cats_dogs/train/cat/cat_116.wav  \n",
            "  inflating: cats_dogs/train/cat/cat_117.wav  \n",
            "  inflating: cats_dogs/train/cat/cat_118.wav  \n",
            "  inflating: cats_dogs/train/cat/cat_119.wav  \n",
            "  inflating: cats_dogs/train/cat/cat_12.wav  \n",
            "  inflating: cats_dogs/train/cat/cat_120.wav  \n",
            "  inflating: cats_dogs/train/cat/cat_121.wav  \n",
            "  inflating: cats_dogs/train/cat/cat_122.wav  \n",
            "  inflating: cats_dogs/train/cat/cat_123.wav  \n",
            "  inflating: cats_dogs/train/cat/cat_124.wav  \n",
            "  inflating: cats_dogs/train/cat/cat_125.wav  \n",
            "  inflating: cats_dogs/train/cat/cat_127.wav  \n",
            "  inflating: cats_dogs/train/cat/cat_128.wav  \n",
            "  inflating: cats_dogs/train/cat/cat_13.wav  \n",
            "  inflating: cats_dogs/train/cat/cat_131.wav  \n",
            "  inflating: cats_dogs/train/cat/cat_132.wav  \n",
            "  inflating: cats_dogs/train/cat/cat_134.wav  \n",
            "  inflating: cats_dogs/train/cat/cat_136.wav  \n",
            "  inflating: cats_dogs/train/cat/cat_138.wav  \n",
            "  inflating: cats_dogs/train/cat/cat_139.wav  \n",
            "  inflating: cats_dogs/train/cat/cat_140.wav  \n",
            "  inflating: cats_dogs/train/cat/cat_141.wav  \n",
            "  inflating: cats_dogs/train/cat/cat_142.wav  \n",
            "  inflating: cats_dogs/train/cat/cat_146.wav  \n",
            "  inflating: cats_dogs/train/cat/cat_147.wav  \n",
            "  inflating: cats_dogs/train/cat/cat_149.wav  \n",
            "  inflating: cats_dogs/train/cat/cat_15.wav  \n",
            "  inflating: cats_dogs/train/cat/cat_150.wav  \n",
            "  inflating: cats_dogs/train/cat/cat_151.wav  \n",
            "  inflating: cats_dogs/train/cat/cat_153.wav  \n",
            "  inflating: cats_dogs/train/cat/cat_154.wav  \n",
            "  inflating: cats_dogs/train/cat/cat_155.wav  \n",
            "  inflating: cats_dogs/train/cat/cat_156.wav  \n",
            "  inflating: cats_dogs/train/cat/cat_157.wav  \n",
            "  inflating: cats_dogs/train/cat/cat_159.wav  \n",
            "  inflating: cats_dogs/train/cat/cat_16.wav  \n",
            "  inflating: cats_dogs/train/cat/cat_160.wav  \n",
            "  inflating: cats_dogs/train/cat/cat_161.wav  \n",
            "  inflating: cats_dogs/train/cat/cat_162.wav  \n",
            "  inflating: cats_dogs/train/cat/cat_163.wav  \n",
            "  inflating: cats_dogs/train/cat/cat_164.wav  \n",
            "  inflating: cats_dogs/train/cat/cat_165.wav  \n",
            "  inflating: cats_dogs/train/cat/cat_166.wav  \n",
            "  inflating: cats_dogs/train/cat/cat_167.wav  \n",
            "  inflating: cats_dogs/train/cat/cat_18.wav  \n",
            "  inflating: cats_dogs/train/cat/cat_19.wav  \n",
            "  inflating: cats_dogs/train/cat/cat_2.wav  \n",
            "  inflating: cats_dogs/train/cat/cat_21.wav  \n",
            "  inflating: cats_dogs/train/cat/cat_22.wav  \n",
            "  inflating: cats_dogs/train/cat/cat_23.wav  \n",
            "  inflating: cats_dogs/train/cat/cat_25.wav  \n",
            "  inflating: cats_dogs/train/cat/cat_26.wav  \n",
            "  inflating: cats_dogs/train/cat/cat_27.wav  \n",
            "  inflating: cats_dogs/train/cat/cat_30.wav  \n",
            "  inflating: cats_dogs/train/cat/cat_31.wav  \n",
            "  inflating: cats_dogs/train/cat/cat_32.wav  \n",
            "  inflating: cats_dogs/train/cat/cat_33.wav  \n",
            "  inflating: cats_dogs/train/cat/cat_34.wav  \n",
            "  inflating: cats_dogs/train/cat/cat_35.wav  \n",
            "  inflating: cats_dogs/train/cat/cat_37.wav  \n",
            "  inflating: cats_dogs/train/cat/cat_38.wav  \n",
            "  inflating: cats_dogs/train/cat/cat_39.wav  \n",
            "  inflating: cats_dogs/train/cat/cat_4.wav  \n",
            "  inflating: cats_dogs/train/cat/cat_40.wav  \n",
            "  inflating: cats_dogs/train/cat/cat_41.wav  \n",
            "  inflating: cats_dogs/train/cat/cat_43.wav  \n",
            "  inflating: cats_dogs/train/cat/cat_44.wav  \n",
            "  inflating: cats_dogs/train/cat/cat_45.wav  \n",
            "  inflating: cats_dogs/train/cat/cat_46.wav  \n",
            "  inflating: cats_dogs/train/cat/cat_47.wav  \n",
            "  inflating: cats_dogs/train/cat/cat_48.wav  \n",
            "  inflating: cats_dogs/train/cat/cat_49.wav  \n",
            "  inflating: cats_dogs/train/cat/cat_5.wav  \n",
            "  inflating: cats_dogs/train/cat/cat_50.wav  \n",
            "  inflating: cats_dogs/train/cat/cat_51.wav  \n",
            "  inflating: cats_dogs/train/cat/cat_52.wav  \n",
            "  inflating: cats_dogs/train/cat/cat_53.wav  \n",
            "  inflating: cats_dogs/train/cat/cat_54.wav  \n",
            "  inflating: cats_dogs/train/cat/cat_6.wav  \n",
            "  inflating: cats_dogs/train/cat/cat_60.wav  \n",
            "  inflating: cats_dogs/train/cat/cat_62.wav  \n",
            "  inflating: cats_dogs/train/cat/cat_63.wav  \n",
            "  inflating: cats_dogs/train/cat/cat_64.wav  \n",
            "  inflating: cats_dogs/train/cat/cat_65.wav  \n",
            "  inflating: cats_dogs/train/cat/cat_68.wav  \n",
            "  inflating: cats_dogs/train/cat/cat_69.wav  \n",
            "  inflating: cats_dogs/train/cat/cat_7.wav  \n",
            "  inflating: cats_dogs/train/cat/cat_70.wav  \n",
            "  inflating: cats_dogs/train/cat/cat_71.wav  \n",
            "  inflating: cats_dogs/train/cat/cat_72.wav  \n",
            "  inflating: cats_dogs/train/cat/cat_73.wav  \n",
            "  inflating: cats_dogs/train/cat/cat_74.wav  \n",
            "  inflating: cats_dogs/train/cat/cat_77.wav  \n",
            "  inflating: cats_dogs/train/cat/cat_78.wav  \n",
            "  inflating: cats_dogs/train/cat/cat_8.wav  \n",
            "  inflating: cats_dogs/train/cat/cat_80.wav  \n",
            "  inflating: cats_dogs/train/cat/cat_81.wav  \n",
            "  inflating: cats_dogs/train/cat/cat_83.wav  \n",
            "  inflating: cats_dogs/train/cat/cat_84.wav  \n",
            "  inflating: cats_dogs/train/cat/cat_87.wav  \n",
            "  inflating: cats_dogs/train/cat/cat_89.wav  \n",
            "  inflating: cats_dogs/train/cat/cat_9.wav  \n",
            "  inflating: cats_dogs/train/cat/cat_91.wav  \n",
            "  inflating: cats_dogs/train/cat/cat_92.wav  \n",
            "  inflating: cats_dogs/train/cat/cat_93.wav  \n",
            "  inflating: cats_dogs/train/cat/cat_94.wav  \n",
            "  inflating: cats_dogs/train/cat/cat_95.wav  \n",
            "  inflating: cats_dogs/train/cat/cat_96.wav  \n",
            "  inflating: cats_dogs/train/cat/cat_97.wav  \n",
            "  inflating: cats_dogs/train/cat/cat_98.wav  \n",
            "  inflating: cats_dogs/train/cat/cat_99.wav  \n",
            "  inflating: cats_dogs/train/dog/dog_barking_0.wav  \n",
            "  inflating: cats_dogs/train/dog/dog_barking_1.wav  \n",
            "  inflating: cats_dogs/train/dog/dog_barking_10.wav  \n",
            "  inflating: cats_dogs/train/dog/dog_barking_100.wav  \n",
            "  inflating: cats_dogs/train/dog/dog_barking_101.wav  \n",
            "  inflating: cats_dogs/train/dog/dog_barking_102.wav  \n",
            "  inflating: cats_dogs/train/dog/dog_barking_103.wav  \n",
            "  inflating: cats_dogs/train/dog/dog_barking_104.wav  \n",
            "  inflating: cats_dogs/train/dog/dog_barking_105.wav  \n",
            "  inflating: cats_dogs/train/dog/dog_barking_106.wav  \n",
            "  inflating: cats_dogs/train/dog/dog_barking_107.wav  \n",
            "  inflating: cats_dogs/train/dog/dog_barking_108.wav  \n",
            "  inflating: cats_dogs/train/dog/dog_barking_109.wav  \n",
            "  inflating: cats_dogs/train/dog/dog_barking_11.wav  \n",
            "  inflating: cats_dogs/train/dog/dog_barking_110.wav  \n",
            "  inflating: cats_dogs/train/dog/dog_barking_111.wav  \n",
            "  inflating: cats_dogs/train/dog/dog_barking_13.wav  \n",
            "  inflating: cats_dogs/train/dog/dog_barking_14.wav  \n",
            "  inflating: cats_dogs/train/dog/dog_barking_16.wav  \n",
            "  inflating: cats_dogs/train/dog/dog_barking_17.wav  \n",
            "  inflating: cats_dogs/train/dog/dog_barking_18.wav  \n",
            "  inflating: cats_dogs/train/dog/dog_barking_2.wav  \n",
            "  inflating: cats_dogs/train/dog/dog_barking_20.wav  \n",
            "  inflating: cats_dogs/train/dog/dog_barking_21.wav  \n",
            "  inflating: cats_dogs/train/dog/dog_barking_22.wav  \n",
            "  inflating: cats_dogs/train/dog/dog_barking_23.wav  \n",
            "  inflating: cats_dogs/train/dog/dog_barking_25.wav  \n",
            "  inflating: cats_dogs/train/dog/dog_barking_26.wav  \n",
            "  inflating: cats_dogs/train/dog/dog_barking_27.wav  \n",
            "  inflating: cats_dogs/train/dog/dog_barking_28.wav  \n",
            "  inflating: cats_dogs/train/dog/dog_barking_29.wav  \n",
            "  inflating: cats_dogs/train/dog/dog_barking_30.wav  \n",
            "  inflating: cats_dogs/train/dog/dog_barking_31.wav  \n",
            "  inflating: cats_dogs/train/dog/dog_barking_32.wav  \n",
            "  inflating: cats_dogs/train/dog/dog_barking_33.wav  \n",
            "  inflating: cats_dogs/train/dog/dog_barking_35.wav  \n",
            "  inflating: cats_dogs/train/dog/dog_barking_36.wav  \n",
            "  inflating: cats_dogs/train/dog/dog_barking_37.wav  \n",
            "  inflating: cats_dogs/train/dog/dog_barking_38.wav  \n",
            "  inflating: cats_dogs/train/dog/dog_barking_39.wav  \n",
            "  inflating: cats_dogs/train/dog/dog_barking_4.wav  \n",
            "  inflating: cats_dogs/train/dog/dog_barking_40.wav  \n",
            "  inflating: cats_dogs/train/dog/dog_barking_41.wav  \n",
            "  inflating: cats_dogs/train/dog/dog_barking_42.wav  \n",
            "  inflating: cats_dogs/train/dog/dog_barking_47.wav  \n",
            "  inflating: cats_dogs/train/dog/dog_barking_5.wav  \n",
            "  inflating: cats_dogs/train/dog/dog_barking_50.wav  \n",
            "  inflating: cats_dogs/train/dog/dog_barking_51.wav  \n",
            "  inflating: cats_dogs/train/dog/dog_barking_52.wav  \n",
            "  inflating: cats_dogs/train/dog/dog_barking_53.wav  \n",
            "  inflating: cats_dogs/train/dog/dog_barking_55.wav  \n",
            "  inflating: cats_dogs/train/dog/dog_barking_56.wav  \n",
            "  inflating: cats_dogs/train/dog/dog_barking_57.wav  \n",
            "  inflating: cats_dogs/train/dog/dog_barking_58.wav  \n",
            "  inflating: cats_dogs/train/dog/dog_barking_6.wav  \n",
            "  inflating: cats_dogs/train/dog/dog_barking_60.wav  \n",
            "  inflating: cats_dogs/train/dog/dog_barking_61.wav  \n",
            "  inflating: cats_dogs/train/dog/dog_barking_63.wav  \n",
            "  inflating: cats_dogs/train/dog/dog_barking_65.wav  \n",
            "  inflating: cats_dogs/train/dog/dog_barking_67.wav  \n",
            "  inflating: cats_dogs/train/dog/dog_barking_68.wav  \n",
            "  inflating: cats_dogs/train/dog/dog_barking_69.wav  \n",
            "  inflating: cats_dogs/train/dog/dog_barking_70.wav  \n",
            "  inflating: cats_dogs/train/dog/dog_barking_71.wav  \n",
            "  inflating: cats_dogs/train/dog/dog_barking_72.wav  \n",
            "  inflating: cats_dogs/train/dog/dog_barking_74.wav  \n",
            "  inflating: cats_dogs/train/dog/dog_barking_75.wav  \n",
            "  inflating: cats_dogs/train/dog/dog_barking_76.wav  \n",
            "  inflating: cats_dogs/train/dog/dog_barking_77.wav  \n",
            "  inflating: cats_dogs/train/dog/dog_barking_79.wav  \n",
            "  inflating: cats_dogs/train/dog/dog_barking_80.wav  \n",
            "  inflating: cats_dogs/train/dog/dog_barking_81.wav  \n",
            "  inflating: cats_dogs/train/dog/dog_barking_83.wav  \n",
            "  inflating: cats_dogs/train/dog/dog_barking_84.wav  \n",
            "  inflating: cats_dogs/train/dog/dog_barking_85.wav  \n",
            "  inflating: cats_dogs/train/dog/dog_barking_86.wav  \n",
            "  inflating: cats_dogs/train/dog/dog_barking_87.wav  \n",
            "  inflating: cats_dogs/train/dog/dog_barking_88.wav  \n",
            "  inflating: cats_dogs/train/dog/dog_barking_92.wav  \n",
            "  inflating: cats_dogs/train/dog/dog_barking_93.wav  \n",
            "  inflating: cats_dogs/train/dog/dog_barking_94.wav  \n",
            "  inflating: cats_dogs/train/dog/dog_barking_95.wav  \n",
            "  inflating: cats_dogs/train/dog/dog_barking_96.wav  \n",
            "  inflating: cats_dogs/train/dog/dog_barking_97.wav  \n",
            "  inflating: cats_dogs/train/dog/dog_barking_98.wav  \n",
            "  inflating: train_test_split.csv    \n",
            "  inflating: utils.py                \n"
          ]
        }
      ]
    },
    {
      "cell_type": "markdown",
      "source": [
        "## Start"
      ],
      "metadata": {
        "id": "ykMW2VmNKxC5"
      }
    },
    {
      "cell_type": "markdown",
      "source": [
        "Delete duplicate file"
      ],
      "metadata": {
        "id": "a-U1sP0cFbXn"
      }
    },
    {
      "cell_type": "code",
      "source": [
        "for file_name in os.listdir('./cats_dogs'):\n",
        "  if os.path.isfile('./cats_dogs/' + file_name):\n",
        "    os.remove('./cats_dogs/' + file_name)"
      ],
      "metadata": {
        "id": "twnO-5_WE_V8"
      },
      "execution_count": null,
      "outputs": []
    },
    {
      "cell_type": "code",
      "source": [
        "os.rename('./cats_dogs/test/test','./cats_dogs/test/dogs')"
      ],
      "metadata": {
        "id": "JdwLqQyFFlIC"
      },
      "execution_count": null,
      "outputs": []
    },
    {
      "cell_type": "code",
      "source": [
        "from pathlib import Path\n",
        "def create_image_from_audio(type='train'):\n",
        "  allow_animal=['cat','dog']\n",
        "  for animal in allow_animal:\n",
        "    animal_path=f\"animal/{type}/{animal}\"\n",
        "    Path(animal_path).mkdir(parents=True, exist_ok=True)"
      ],
      "metadata": {
        "id": "3d9rmYDQGCtI"
      },
      "execution_count": null,
      "outputs": []
    },
    {
      "cell_type": "code",
      "source": [
        "create_image_from_audio()"
      ],
      "metadata": {
        "id": "vI8ffkPwHt_t"
      },
      "execution_count": null,
      "outputs": []
    },
    {
      "cell_type": "code",
      "source": [
        "import shutil\n",
        "\n",
        "shutil.rmtree('animal/test')"
      ],
      "metadata": {
        "id": "-1HRViM2H5bI"
      },
      "execution_count": null,
      "outputs": []
    },
    {
      "cell_type": "code",
      "source": [
        "import torchaudio\n",
        "data_waveform,sr=torchaudio.load('./cats_dogs/train/cat/cat_1.wav')"
      ],
      "metadata": {
        "id": "Pda4XnrqJFbb"
      },
      "execution_count": null,
      "outputs": []
    },
    {
      "cell_type": "code",
      "source": [
        "import matplotlib.pyplot as plt\n",
        "import torch\n",
        "def plot_waveform(waveform, sample_rate):\n",
        "    waveform = waveform.numpy()\n",
        "\n",
        "    num_channels, num_frames = waveform.shape\n",
        "    time_axis = torch.arange(0, num_frames) / sample_rate\n",
        "\n",
        "    figure, axes = plt.subplots(num_channels, 1)\n",
        "    if num_channels == 1:\n",
        "        axes = [axes]\n",
        "    for c in range(num_channels):\n",
        "        axes[c].plot(time_axis, waveform[c], linewidth=1)\n",
        "        axes[c].grid(True)\n",
        "        if num_channels > 1:\n",
        "            axes[c].set_ylabel(f\"Channel {c+1}\")\n",
        "    figure.suptitle(\"waveform\")\n",
        "    plt.show(block=False)\n",
        "\n",
        "# source: adapted from https://pytorch.org/audio/stable/tutorials/audio_io_tutorial.html\n",
        "def plot_specgram(waveform, sample_rate, file_path = 'test2.png'):\n",
        "    waveform = waveform.numpy()\n",
        "\n",
        "    num_channels, num_frames = waveform.shape\n",
        "\n",
        "    fig, axes = plt.subplots( num_channels, 1)\n",
        "    fig.set_size_inches(10, 10)\n",
        "    if num_channels == 1:\n",
        "        axes = [axes]\n",
        "    for c in range(num_channels):\n",
        "        axes[c].specgram(waveform[c], Fs=sample_rate)\n",
        "        if num_channels > 1:\n",
        "            axes[c].set_ylabel(f\"Channel {c+1}\")\n",
        "    plt.gca().set_axis_off()\n",
        "    plt.gca().axes.get_xaxis().set_visible(False)\n",
        "    plt.gca().axes.get_yaxis().set_visible(False)\n",
        "    # plt.show(block=False)\n",
        "    plt.savefig(file_path, bbox_inches='tight', pad_inches = 0)"
      ],
      "metadata": {
        "id": "GZh6J-_SJLWS"
      },
      "execution_count": null,
      "outputs": []
    },
    {
      "cell_type": "code",
      "source": [
        "from pathlib import Path\n",
        "def create_image_from_audio(type='train'):\n",
        "  if type =='train':\n",
        "    allow_animal=['cat','dog']\n",
        "  if type =='test':\n",
        "    allow_animal=['cats','dogs']\n",
        "  for animal in allow_animal:\n",
        "    animal_path=f\"animal/{type}/{animal}\"\n",
        "    Path(animal_path).mkdir(parents=True, exist_ok=True)\n",
        "    root_dir=f\"cats_dogs/{type}/{animal}\"\n",
        "    for file_name in os.listdir(root_dir):\n",
        "      if os.path.isfile(os.path.join(root_dir,file_name)):\n",
        "        data_waveform,sr=torchaudio.load(os.path.join(root_dir,file_name))\n",
        "        plot_specgram(data_waveform,sr,f\"{animal_path}/{file_name}.png\")"
      ],
      "metadata": {
        "id": "-XPIhdK8H_Hb"
      },
      "execution_count": null,
      "outputs": []
    },
    {
      "cell_type": "code",
      "source": [
        "create_image_from_audio(type='train')"
      ],
      "metadata": {
        "id": "hyAOP3VgKLSg"
      },
      "execution_count": null,
      "outputs": []
    },
    {
      "cell_type": "code",
      "source": [
        "create_image_from_audio(type='test')"
      ],
      "metadata": {
        "id": "FdsRMu8rKOsS"
      },
      "execution_count": null,
      "outputs": []
    },
    {
      "cell_type": "code",
      "source": [
        "import torchvision\n",
        "import torchvision.transforms as transforms\n",
        "from torch.utils.data import DataLoader"
      ],
      "metadata": {
        "id": "jfQa-ZHKLPI8"
      },
      "execution_count": null,
      "outputs": []
    },
    {
      "cell_type": "code",
      "source": [
        "transform=transforms.Compose([\n",
        "    transforms.Resize((100,100)),\n",
        "    transforms.Grayscale(num_output_channels=1),\n",
        "    transforms.ToTensor(),\n",
        "    transforms.Normalize((0.5,),(0.5,))\n",
        "])"
      ],
      "metadata": {
        "id": "QjtWT-jJL8Sb"
      },
      "execution_count": null,
      "outputs": []
    },
    {
      "cell_type": "code",
      "source": [
        "trainset=torchvision.datasets.ImageFolder(root='animal/train',transform=transform)"
      ],
      "metadata": {
        "id": "oi9ilDQ_MKnH"
      },
      "execution_count": null,
      "outputs": []
    },
    {
      "cell_type": "code",
      "source": [
        "testset=torchvision.datasets.ImageFolder(root='animal/test',transform=transform)"
      ],
      "metadata": {
        "id": "q4Gy36mIMQKX"
      },
      "execution_count": null,
      "outputs": []
    },
    {
      "cell_type": "code",
      "source": [
        "train_loader=DataLoader(trainset,batch_size=16,shuffle=True)\n",
        "test_loader=DataLoader(testset,batch_size=16,shuffle=False)"
      ],
      "metadata": {
        "id": "UkpJaAarMyxn"
      },
      "execution_count": null,
      "outputs": []
    },
    {
      "cell_type": "code",
      "source": [
        "img_0=iter(train_loader)\n",
        "img,label=next(img_0)"
      ],
      "metadata": {
        "id": "yLSsKQhTN9-L"
      },
      "execution_count": null,
      "outputs": []
    },
    {
      "cell_type": "code",
      "source": [
        "img.shape"
      ],
      "metadata": {
        "colab": {
          "base_uri": "https://localhost:8080/"
        },
        "id": "gDZo-u77ODTK",
        "outputId": "b896c08e-bd40-4b01-cd84-8ca224902e1f"
      },
      "execution_count": null,
      "outputs": [
        {
          "output_type": "execute_result",
          "data": {
            "text/plain": [
              "torch.Size([16, 1, 100, 100])"
            ]
          },
          "metadata": {},
          "execution_count": 50
        }
      ]
    },
    {
      "cell_type": "code",
      "source": [
        "import torch.nn as nn\n",
        "import torch\n",
        "import torch.nn.functional as F\n",
        "class MyModel(nn.Module):\n",
        "  def __init__(self):\n",
        "    super().__init__()\n",
        "    self.conv1=nn.Conv2d(1,6,3)  #98 98 6\n",
        "    self.pool=nn.MaxPool2d(2,2)  # 49 49 6\n",
        "    self.conv2=nn.Conv2d(6,16,3)  # 47 47 16\n",
        "    self.fc1=nn.Linear(16*23*23,120)\n",
        "    self.fc2=nn.Linear(120,84)\n",
        "    self.fc3=nn.Linear(84,1)\n",
        "    self.sigmoid=nn.Sigmoid()\n",
        "  def forward(self,x):\n",
        "    x=self.pool(F.relu(self.conv1(x)))\n",
        "    x=self.pool(F.relu(self.conv2(x)))\n",
        "    x=torch.flatten(x,1)\n",
        "    x=F.relu(self.fc1(x))\n",
        "    x=F.relu(self.fc2(x))\n",
        "    x=self.sigmoid(self.fc3(x))\n",
        "    return x"
      ],
      "metadata": {
        "id": "vVqpcdJ-NinI"
      },
      "execution_count": null,
      "outputs": []
    },
    {
      "cell_type": "code",
      "source": [
        "model=MyModel()\n",
        "loss_fn=nn.BCELoss()\n",
        "optimizer=torch.optim.Adam(model.parameters(),lr=0.001)\n",
        "losses=[]\n",
        "epochs=10"
      ],
      "metadata": {
        "id": "xpk5kK2aO_oQ"
      },
      "execution_count": null,
      "outputs": []
    },
    {
      "cell_type": "code",
      "source": [
        "\n",
        "for epoch in range(epochs):\n",
        "  for i,data in enumerate(train_loader,0):\n",
        "    inputs,labels=data\n",
        "    optimizer.zero_grad()\n",
        "    outputs=model(inputs)\n",
        "    loss=loss_fn(outputs.squeeze(1),labels.float())\n",
        "    loss.backward()\n",
        "    optimizer.step()\n",
        "  losses.append(loss.item())\n",
        "  print(f'epoch {epoch+1} loss: {loss.item()}')\n"
      ],
      "metadata": {
        "colab": {
          "base_uri": "https://localhost:8080/"
        },
        "id": "4_hnK2upPKKn",
        "outputId": "42a8424d-c7e0-440c-b7de-49a750b8e815"
      },
      "execution_count": null,
      "outputs": [
        {
          "output_type": "stream",
          "name": "stdout",
          "text": [
            "epoch 1 loss: 0.6543526649475098\n",
            "epoch 2 loss: 0.3684249520301819\n",
            "epoch 3 loss: 0.5686712265014648\n",
            "epoch 4 loss: 0.48283088207244873\n",
            "epoch 5 loss: 0.17903532087802887\n",
            "epoch 6 loss: 0.3230721354484558\n",
            "epoch 7 loss: 0.15756407380104065\n",
            "epoch 8 loss: 0.05421293154358864\n",
            "epoch 9 loss: 0.0331166535615921\n",
            "epoch 10 loss: 0.09854792058467865\n"
          ]
        }
      ]
    },
    {
      "cell_type": "code",
      "source": [
        "import seaborn as sns\n",
        "sns.lineplot(x=range(epochs),y=losses)"
      ],
      "metadata": {
        "colab": {
          "base_uri": "https://localhost:8080/",
          "height": 447
        },
        "id": "p7wwO1PwPWQx",
        "outputId": "4478eab7-9318-4bc7-dcc8-56565a6f90e8"
      },
      "execution_count": null,
      "outputs": [
        {
          "output_type": "execute_result",
          "data": {
            "text/plain": [
              "<Axes: >"
            ]
          },
          "metadata": {},
          "execution_count": 57
        },
        {
          "output_type": "display_data",
          "data": {
            "text/plain": [
              "<Figure size 640x480 with 1 Axes>"
            ],
            "image/png": "[encoded data removed]"
          },
          "metadata": {}
        }
      ]
    },
    {
      "cell_type": "code",
      "source": [
        "y_pred=[]\n",
        "y_test=[]\n",
        "with torch.no_grad():\n",
        "  for data in test_loader:\n",
        "    inputs,labels=data\n",
        "    outputs=model(inputs).round()\n",
        "    y_pred.extend(outputs.numpy())\n",
        "    y_test.extend(labels.numpy())"
      ],
      "metadata": {
        "id": "vyWi6BETPp8C"
      },
      "execution_count": null,
      "outputs": []
    },
    {
      "cell_type": "code",
      "source": [
        "from sklearn.metrics import accuracy_score\n",
        "accuracy_score(y_test,y_pred)"
      ],
      "metadata": {
        "colab": {
          "base_uri": "https://localhost:8080/"
        },
        "id": "isNggGPYPxVh",
        "outputId": "4cbdd16a-1ae2-4ae4-f5d9-b7b284bd56ef"
      },
      "execution_count": null,
      "outputs": [
        {
          "output_type": "execute_result",
          "data": {
            "text/plain": [
              "0.9104477611940298"
            ]
          },
          "metadata": {},
          "execution_count": 60
        }
      ]
    },
    {
      "cell_type": "code",
      "source": [
        "from collections import Counter\n",
        "Counter(y_test).most_common()[0][1]/len(y_test)"
      ],
      "metadata": {
        "colab": {
          "base_uri": "https://localhost:8080/"
        },
        "id": "eHsU5A8PP2Jl",
        "outputId": "b0791b4e-854b-4309-d907-a0a7f6ca1413"
      },
      "execution_count": null,
      "outputs": [
        {
          "output_type": "execute_result",
          "data": {
            "text/plain": [
              "0.582089552238806"
            ]
          },
          "metadata": {},
          "execution_count": 61
        }
      ]
    },
    {
      "cell_type": "code",
      "source": [
        "#display confusion matrix\n",
        "from sklearn.metrics import confusion_matrix,ConfusionMatrixDisplay\n",
        "cm=confusion_matrix(y_test,y_pred)"
      ],
      "metadata": {
        "id": "ZJdereGDP5uN"
      },
      "execution_count": null,
      "outputs": []
    },
    {
      "cell_type": "code",
      "source": [
        "cd=ConfusionMatrixDisplay(cm,display_labels=['cat','dog'])\n",
        "cd.plot()"
      ],
      "metadata": {
        "colab": {
          "base_uri": "https://localhost:8080/",
          "height": 466
        },
        "id": "EBhw0qOWQEpk",
        "outputId": "5c1d0d06-6c94-4868-ce30-a07cc514dd5b"
      },
      "execution_count": null,
      "outputs": [
        {
          "output_type": "execute_result",
          "data": {
            "text/plain": [
              "<sklearn.metrics._plot.confusion_matrix.ConfusionMatrixDisplay at 0x7d975f7427d0>"
            ]
          },
          "metadata": {},
          "execution_count": 64
        },
        {
          "output_type": "display_data",
          "data": {
            "text/plain": [
              "<Figure size 640x480 with 2 Axes>"
            ],
            "image/png": "[encoded data removed]"
          },
          "metadata": {}
        }
      ]
    },
    {
      "cell_type": "code",
      "source": [],
      "metadata": {
        "id": "TT_MO9IPQNMP"
      },
      "execution_count": null,
      "outputs": []
    }
  ]
}