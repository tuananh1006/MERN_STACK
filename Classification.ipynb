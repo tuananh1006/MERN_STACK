{
  "nbformat": 4,
  "nbformat_minor": 0,
  "metadata": {
    "colab": {
      "provenance": [],
      "authorship_tag": "ABX9TyPMl3pirx1LyYZufqvwFjWj",
      "include_colab_link": true
    },
    "kernelspec": {
      "name": "python3",
      "display_name": "Python 3"
    },
    "language_info": {
      "name": "python"
    }
  },
  "cells": [
    {
      "cell_type": "markdown",
      "metadata": {
        "id": "view-in-github",
        "colab_type": "text"
      },
      "source": [
        "<a href=\"https://colab.research.google.com/github/tuananh1006/Torch_Practice/blob/main/Classification.ipynb\" target=\"_parent\"><img src=\"https://colab.research.google.com/assets/colab-badge.svg\" alt=\"Open In Colab\"/></a>"
      ]
    },
    {
      "cell_type": "code",
      "execution_count": 1,
      "metadata": {
        "id": "oSlz0vWD5HCR"
      },
      "outputs": [],
      "source": [
        "import torch\n",
        "import torch.nn as nn"
      ]
    },
    {
      "cell_type": "code",
      "source": [
        "from sklearn.datasets import load_iris"
      ],
      "metadata": {
        "id": "xBZ-_CAX6KND"
      },
      "execution_count": 2,
      "outputs": []
    },
    {
      "cell_type": "code",
      "source": [
        "iris=load_iris()\n",
        "X=iris.data\n",
        "y=iris.target"
      ],
      "metadata": {
        "id": "W4yQn7zB6ZtO"
      },
      "execution_count": 3,
      "outputs": []
    },
    {
      "cell_type": "code",
      "source": [
        "from collections import Counter\n",
        "Counter(y)"
      ],
      "metadata": {
        "colab": {
          "base_uri": "https://localhost:8080/"
        },
        "id": "gIbsF27A7RO_",
        "outputId": "990227fb-43ae-4c09-c1b9-9800e964464d"
      },
      "execution_count": 17,
      "outputs": [
        {
          "output_type": "execute_result",
          "data": {
            "text/plain": [
              "Counter({0: 50, 1: 50, 2: 50})"
            ]
          },
          "metadata": {},
          "execution_count": 17
        }
      ]
    },
    {
      "cell_type": "code",
      "source": [
        "X.shape"
      ],
      "metadata": {
        "colab": {
          "base_uri": "https://localhost:8080/"
        },
        "id": "DNJEmTTt6dgj",
        "outputId": "2fdf7f3c-25f2-4de2-f514-b3a5bfc4a64b"
      },
      "execution_count": 5,
      "outputs": [
        {
          "output_type": "execute_result",
          "data": {
            "text/plain": [
              "(150, 4)"
            ]
          },
          "metadata": {},
          "execution_count": 5
        }
      ]
    },
    {
      "cell_type": "code",
      "source": [
        "from sklearn.model_selection import train_test_split\n",
        "X_train,X_test,y_train,y_test=train_test_split(X,y,test_size=0.2,random_state=42)"
      ],
      "metadata": {
        "id": "DNFa2Uj969Py"
      },
      "execution_count": 10,
      "outputs": []
    },
    {
      "cell_type": "code",
      "source": [
        "X_train.shape"
      ],
      "metadata": {
        "colab": {
          "base_uri": "https://localhost:8080/"
        },
        "id": "Jvrv9k5G8F94",
        "outputId": "f10ff22a-590f-48ea-8ef5-d02d2e00cd91"
      },
      "execution_count": 23,
      "outputs": [
        {
          "output_type": "execute_result",
          "data": {
            "text/plain": [
              "(120, 4)"
            ]
          },
          "metadata": {},
          "execution_count": 23
        }
      ]
    },
    {
      "cell_type": "code",
      "source": [
        "X_train_torch=torch.tensor(X_train,dtype=torch.float32)\n",
        "y_train_torch=torch.tensor(y_train,dtype=torch.long)\n",
        "X_test_torch=torch.tensor(X_test,dtype=torch.float32)\n",
        "y_test_torch=torch.tensor(y_test,dtype=torch.long)"
      ],
      "metadata": {
        "id": "K7huOmk36eMw"
      },
      "execution_count": 26,
      "outputs": []
    },
    {
      "cell_type": "code",
      "source": [
        "from torch.utils.data import Dataset,DataLoader"
      ],
      "metadata": {
        "id": "e0L05RXG6lrx"
      },
      "execution_count": 27,
      "outputs": []
    },
    {
      "cell_type": "code",
      "source": [
        "class IrisDataset(Dataset):\n",
        "  def __init__(self,X,y):\n",
        "    super().__init__()\n",
        "    self.X=X\n",
        "    self.y=y\n",
        "  def __len__(self):\n",
        "    return len(self.X)\n",
        "  def __getitem__(self,idx):\n",
        "    return self.X[idx],self.y[idx]"
      ],
      "metadata": {
        "id": "7jHLKIRb6pjJ"
      },
      "execution_count": 77,
      "outputs": []
    },
    {
      "cell_type": "code",
      "source": [
        "train_loader=DataLoader(IrisDataset(X_train_torch,y_train_torch),batch_size=4,shuffle=True)\n",
        "test_loader=DataLoader(IrisDataset(X_test_torch,y_test_torch),batch_size=10,shuffle=False)"
      ],
      "metadata": {
        "id": "JYJdZoFG6xvO"
      },
      "execution_count": 170,
      "outputs": []
    },
    {
      "cell_type": "code",
      "source": [
        "class IrisModel(nn.Module):\n",
        "  def __init__(self,input_dim,output_dim):\n",
        "    super().__init__()\n",
        "    self.fc1=nn.Linear(input_dim,50)\n",
        "    self.fc2=nn.Linear(50,output_dim)\n",
        "    self.relu=nn.ReLU()\n",
        "    self.log_softmax=nn.LogSoftmax(dim=1)\n",
        "  def forward(self,x):\n",
        "    x=self.fc1(x)\n",
        "    x=self.relu(x)\n",
        "    x=self.fc2(x)\n",
        "    x=self.log_softmax(x)\n",
        "    return x"
      ],
      "metadata": {
        "id": "xJtsxRO17buC"
      },
      "execution_count": 171,
      "outputs": []
    },
    {
      "cell_type": "code",
      "source": [
        "model=IrisModel(4,3)\n",
        "loss=nn.CrossEntropyLoss()\n",
        "optim=torch.optim.Adam(model.parameters(),lr=0.05)\n",
        "epochs=100"
      ],
      "metadata": {
        "id": "7Lev8OZp7PVQ"
      },
      "execution_count": 172,
      "outputs": []
    },
    {
      "cell_type": "code",
      "source": [
        "train_loss=[]\n",
        "for epoch in range(1,epochs+1):\n",
        "  losses=0\n",
        "  for i,(X,y) in enumerate(train_loader):\n",
        "    predict=model(X)\n",
        "    los=loss(predict,y)\n",
        "    los.backward()\n",
        "    optim.step()\n",
        "    optim.zero_grad()\n",
        "    losses+=los.item()\n",
        "  train_loss.append(los.item())\n",
        "  if epoch%10==0:\n",
        "    print(f\"Epoch {epoch}/{epochs} Loss: {los}\")"
      ],
      "metadata": {
        "colab": {
          "base_uri": "https://localhost:8080/"
        },
        "id": "D4EV_Jki63dD",
        "outputId": "f9401706-7b93-4642-b3f6-be4877b073b3"
      },
      "execution_count": 173,
      "outputs": [
        {
          "output_type": "stream",
          "name": "stdout",
          "text": [
            "Epoch 10/100 Loss: 0.0056885769590735435\n",
            "Epoch 20/100 Loss: 0.0016893433639779687\n",
            "Epoch 30/100 Loss: 0.040577709674835205\n",
            "Epoch 40/100 Loss: 0.18554730713367462\n",
            "Epoch 50/100 Loss: 0.5311602354049683\n",
            "Epoch 60/100 Loss: 0.34225061535835266\n",
            "Epoch 70/100 Loss: 0.0026143421418964863\n",
            "Epoch 80/100 Loss: 2.568842683103867e-05\n",
            "Epoch 90/100 Loss: 0.3235163390636444\n",
            "Epoch 100/100 Loss: 0.005841419566422701\n"
          ]
        }
      ]
    },
    {
      "cell_type": "code",
      "source": [
        "import matplotlib.pyplot as plt\n",
        "plt.plot(range(epochs),train_loss)\n",
        "plt.show()"
      ],
      "metadata": {
        "colab": {
          "base_uri": "https://localhost:8080/",
          "height": 430
        },
        "id": "O-94QEvS788P",
        "outputId": "17979039-58a0-4aef-e15a-76d20fe8e0d6"
      },
      "execution_count": 174,
      "outputs": [
        {
          "output_type": "display_data",
          "data": {
            "text/plain": [
              "<Figure size 640x480 with 1 Axes>"
            ],
            "image/png": "[encoded data removed]"
          },
          "metadata": {}
        }
      ]
    },
    {
      "cell_type": "code",
      "source": [
        "y.unique()"
      ],
      "metadata": {
        "colab": {
          "base_uri": "https://localhost:8080/"
        },
        "id": "3m4ni44g8AA4",
        "outputId": "9f05d18d-ea14-466f-b056-e36ecd8b37f7"
      },
      "execution_count": 175,
      "outputs": [
        {
          "output_type": "execute_result",
          "data": {
            "text/plain": [
              "tensor([0, 1])"
            ]
          },
          "metadata": {},
          "execution_count": 175
        }
      ]
    },
    {
      "cell_type": "code",
      "source": [
        "correct=0\n",
        "total=0\n",
        "with torch.no_grad():\n",
        "  for X,y in test_loader:\n",
        "    predict=model(X)\n",
        "    _,predict=torch.max(predict,1)\n",
        "    total+=y.size(0)\n",
        "    correct+=(predict==y).sum().item()\n"
      ],
      "metadata": {
        "id": "JJWff2wB_Ely"
      },
      "execution_count": 176,
      "outputs": []
    },
    {
      "cell_type": "code",
      "source": [
        "correct"
      ],
      "metadata": {
        "colab": {
          "base_uri": "https://localhost:8080/"
        },
        "id": "S9aLBQ74_8FH",
        "outputId": "b5e51b1b-da2d-4a4a-c3b8-216ba6d54a17"
      },
      "execution_count": 177,
      "outputs": [
        {
          "output_type": "execute_result",
          "data": {
            "text/plain": [
              "30"
            ]
          },
          "metadata": {},
          "execution_count": 177
        }
      ]
    },
    {
      "cell_type": "code",
      "source": [
        "total"
      ],
      "metadata": {
        "colab": {
          "base_uri": "https://localhost:8080/"
        },
        "id": "Z2WDtKai_-Pm",
        "outputId": "89f1c19a-ecb5-4916-a90b-6239f10ae474"
      },
      "execution_count": 178,
      "outputs": [
        {
          "output_type": "execute_result",
          "data": {
            "text/plain": [
              "30"
            ]
          },
          "metadata": {},
          "execution_count": 178
        }
      ]
    },
    {
      "cell_type": "code",
      "source": [
        "correct/total"
      ],
      "metadata": {
        "colab": {
          "base_uri": "https://localhost:8080/"
        },
        "id": "RsRTqk9VADm1",
        "outputId": "6362f2fa-0ce8-405a-e895-8abe07165df5"
      },
      "execution_count": 179,
      "outputs": [
        {
          "output_type": "execute_result",
          "data": {
            "text/plain": [
              "1.0"
            ]
          },
          "metadata": {},
          "execution_count": 179
        }
      ]
    },
    {
      "cell_type": "code",
      "source": [
        "from collections import Counter\n",
        "Counter(y_test)[0]/len(y_test)"
      ],
      "metadata": {
        "colab": {
          "base_uri": "https://localhost:8080/"
        },
        "id": "P-c7dUfhAuCW",
        "outputId": "3ae03440-0092-4be0-d754-c6ad1e8c32d4"
      },
      "execution_count": 180,
      "outputs": [
        {
          "output_type": "execute_result",
          "data": {
            "text/plain": [
              "0.3333333333333333"
            ]
          },
          "metadata": {},
          "execution_count": 180
        }
      ]
    },
    {
      "cell_type": "code",
      "source": [
        "Counter(y_test)[1]/len(y_test)"
      ],
      "metadata": {
        "colab": {
          "base_uri": "https://localhost:8080/"
        },
        "id": "B2ZNwTvHCpTz",
        "outputId": "1ddadc26-7e57-4cf4-918e-88103a213f1f"
      },
      "execution_count": 181,
      "outputs": [
        {
          "output_type": "execute_result",
          "data": {
            "text/plain": [
              "0.3"
            ]
          },
          "metadata": {},
          "execution_count": 181
        }
      ]
    },
    {
      "cell_type": "code",
      "source": [
        "Counter(y_test)[2]/len(y_test)"
      ],
      "metadata": {
        "colab": {
          "base_uri": "https://localhost:8080/"
        },
        "id": "Uundioh-CrBf",
        "outputId": "31133ef6-2fc9-451b-f635-4369db880ad2"
      },
      "execution_count": 182,
      "outputs": [
        {
          "output_type": "execute_result",
          "data": {
            "text/plain": [
              "0.36666666666666664"
            ]
          },
          "metadata": {},
          "execution_count": 182
        }
      ]
    },
    {
      "cell_type": "code",
      "source": [
        "most_common_cnt=Counter(y_test).most_common()[0][1]"
      ],
      "metadata": {
        "id": "MPAVOzpgCskv"
      },
      "execution_count": 184,
      "outputs": []
    },
    {
      "cell_type": "code",
      "source": [
        "most_common_cnt"
      ],
      "metadata": {
        "colab": {
          "base_uri": "https://localhost:8080/"
        },
        "id": "n9V-BOKlC1Db",
        "outputId": "f740d845-b016-427b-c1fb-255cc2c648a7"
      },
      "execution_count": 186,
      "outputs": [
        {
          "output_type": "execute_result",
          "data": {
            "text/plain": [
              "11"
            ]
          },
          "metadata": {},
          "execution_count": 186
        }
      ]
    },
    {
      "cell_type": "code",
      "source": [],
      "metadata": {
        "id": "NoKUvYCkC4dA"
      },
      "execution_count": null,
      "outputs": []
    }
  ]
}